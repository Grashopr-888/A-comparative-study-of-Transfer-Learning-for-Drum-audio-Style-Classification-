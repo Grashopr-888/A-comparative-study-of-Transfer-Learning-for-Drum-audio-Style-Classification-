{
  "nbformat": 4,
  "nbformat_minor": 0,
  "metadata": {
    "colab": {
      "provenance": [],
      "machine_shape": "hm"
    },
    "kernelspec": {
      "name": "python3",
      "display_name": "Python 3"
    },
    "language_info": {
      "name": "python"
    }
  },
  "cells": [
    {
      "cell_type": "code",
      "execution_count": null,
      "metadata": {
        "colab": {
          "base_uri": "https://localhost:8080/"
        },
        "id": "IU2SQ30YKwtf",
        "outputId": "f091e47e-bcc7-4a89-8dd8-a08cb05a71bb"
      },
      "outputs": [
        {
          "output_type": "stream",
          "name": "stdout",
          "text": [
            "Mounted at /content/drive\n"
          ]
        }
      ],
      "source": [
        "from google.colab import drive\n",
        "drive.mount('/content/drive')"
      ]
    },
    {
      "cell_type": "code",
      "source": [
        "import os\n",
        "import pandas as pd\n",
        "import torch\n",
        "import torch.nn.functional as F\n",
        "import torchaudio\n",
        "import torchaudio.transforms as T\n",
        "from torch.utils.data import Dataset"
      ],
      "metadata": {
        "id": "appc-QdPaZKL"
      },
      "execution_count": null,
      "outputs": []
    },
    {
      "cell_type": "markdown",
      "source": [
        "#verify Directories - do not need to rerun"
      ],
      "metadata": {
        "id": "RoKXIAhTMcSs"
      }
    },
    {
      "cell_type": "code",
      "source": [
        "import os\n",
        "import pandas as pd\n",
        "\n",
        "# Define base resource path\n",
        "base_path = \"/content/drive/My Drive/LUMT_Thesis_Resources\"\n",
        "\n",
        "# Metadata file path\n",
        "metadata_path = os.path.join(base_path, \"groove_2bar_16000hz_segmented_metadata_allrock_punk_v2_modified_split_rev.csv\")\n",
        "\n",
        "# Validate that paths exist\n",
        "print(\"Checking directories and metadata:\")\n",
        "print(f\"Base path exists: {os.path.exists(base_path)}\")\n",
        "print(f\"Metadata file exists: {os.path.exists(metadata_path)}\")\n",
        "\n",
        "# Load metadata\n",
        "metadata = pd.read_csv(metadata_path)\n",
        "\n",
        "# Confirm required columns exist\n",
        "assert 'split_rev' in metadata.columns, \"'split_rev' column missing in metadata\"\n",
        "assert 'file_path' in metadata.columns, \"'file_path' column missing in metadata\"\n",
        "\n",
        "# Preview and verify 3 file paths per split\n",
        "print(\"\\nChecking sample audio file existence for each split:\")\n",
        "for split in ['train', 'test', 'validation']:\n",
        "    split_df = metadata[metadata['split_rev'] == split]\n",
        "    sample_paths = split_df['file_path'].head(3)\n",
        "\n",
        "    print(f\"\\n{split.capitalize()} split samples:\")\n",
        "    for rel_path in sample_paths:\n",
        "        abs_path = os.path.join(base_path, rel_path)\n",
        "        exists = os.path.exists(abs_path)\n",
        "        print(f\"File exists: {exists} - {abs_path}\")\n"
      ],
      "metadata": {
        "colab": {
          "base_uri": "https://localhost:8080/"
        },
        "id": "zj14vyJtMWJ_",
        "outputId": "aeb2ce33-ec23-4dd0-8d1c-7860fb8626a7"
      },
      "execution_count": null,
      "outputs": [
        {
          "output_type": "stream",
          "name": "stdout",
          "text": [
            "Checking directories and metadata:\n",
            "Base path exists: True\n",
            "Metadata file exists: True\n",
            "\n",
            "Checking sample audio file existence for each split:\n",
            "\n",
            "Train split samples:\n",
            "File exists: True - /content/drive/My Drive/LUMT_Thesis_Resources/groove_2bar_audio_train/drummer1_session2_90_022.wav\n",
            "File exists: True - /content/drive/My Drive/LUMT_Thesis_Resources/groove_2bar_audio_train/drummer1_session2_90_020.wav\n",
            "File exists: True - /content/drive/My Drive/LUMT_Thesis_Resources/groove_2bar_audio_train/drummer1_session2_90_027.wav\n",
            "\n",
            "Test split samples:\n",
            "File exists: True - /content/drive/My Drive/LUMT_Thesis_Resources/groove_2bar_audio_train/drummer1_session2_90_009.wav\n",
            "File exists: True - /content/drive/My Drive/LUMT_Thesis_Resources/groove_2bar_audio_train/drummer1_session2_90_035.wav\n",
            "File exists: True - /content/drive/My Drive/LUMT_Thesis_Resources/groove_2bar_audio_train/drummer1_session2_90_039.wav\n",
            "\n",
            "Validation split samples:\n",
            "File exists: True - /content/drive/My Drive/LUMT_Thesis_Resources/groove_2bar_audio_train/drummer1_session2_90_038.wav\n",
            "File exists: True - /content/drive/My Drive/LUMT_Thesis_Resources/groove_2bar_audio_train/drummer1_session2_90_025.wav\n",
            "File exists: True - /content/drive/My Drive/LUMT_Thesis_Resources/groove_2bar_audio_train/drummer1_session2_90_015.wav\n"
          ]
        }
      ]
    },
    {
      "cell_type": "markdown",
      "source": [
        "Note above how the split_rev is independednt of the original directory structures which was based on the initial split of the data.\n",
        "\n",
        "This way the model knows to look to the 'split_rev' to get the split then to the 'file_path' to get the exact location.\n",
        "\n",
        "This is instead of using some logic that assumes the file paths based on combining the base dir + audio folder +file names for example which would be used if the file paths matched the split_rev.\n",
        "\n",
        "This is crucial to note because it ensure no leakage between splits."
      ],
      "metadata": {
        "id": "N3tDvIB0RyhH"
      }
    },
    {
      "cell_type": "markdown",
      "source": [
        "#Verify Class distributions"
      ],
      "metadata": {
        "id": "361PJ9REUGpK"
      }
    },
    {
      "cell_type": "code",
      "source": [
        "import pandas as pd\n",
        "\n",
        "# Load metadata if not already loaded\n",
        "metadata = pd.read_csv(metadata_path)\n",
        "\n",
        "# Ensure column exists\n",
        "assert 'split_rev' in metadata.columns\n",
        "assert 'style_class' in metadata.columns\n",
        "\n",
        "# Extract sorted unique classes\n",
        "classes = sorted(metadata['style_class'].unique())\n",
        "num_classes = len(classes)\n",
        "\n",
        "print(f\"Found {num_classes} unique classes: {classes}\\n\")\n",
        "\n",
        "# Count total samples per class (entire dataset)\n",
        "print(\"Total samples per class:\")\n",
        "total_class_counts = metadata['style_class'].value_counts().loc[classes]\n",
        "for cls in classes:\n",
        "    count = total_class_counts[cls]\n",
        "    print(f\"{cls}: {count} samples\")\n",
        "\n",
        "# Split-wise class distribution\n",
        "print(\"\\nClass distribution in new splits:\\n\")\n",
        "for split in ['train', 'validation', 'test']:\n",
        "    split_df = metadata[metadata['split_rev'] == split]\n",
        "    total = len(split_df)\n",
        "    print(f\"{split.capitalize()} split:\")\n",
        "    print(f\"Total samples: {total}\")\n",
        "\n",
        "    counts = split_df['style_class'].value_counts().reindex(classes, fill_value=0)\n",
        "    for cls in classes:\n",
        "        count = counts[cls]\n",
        "        percent = (count / total) * 100\n",
        "        print(f\"{cls}: {count} samples ({percent:.1f}%)\")\n",
        "    print(\"\")\n",
        "\n",
        "# Index mapping\n",
        "print(\"Class mapping:\")\n",
        "class_to_index = {i: cls for i, cls in enumerate(classes)}\n",
        "for idx, cls in class_to_index.items():\n",
        "    print(f\"{idx}: {cls}\")\n"
      ],
      "metadata": {
        "colab": {
          "base_uri": "https://localhost:8080/"
        },
        "id": "vg7-ihuXScV5",
        "outputId": "940cf3ac-ded5-45cf-ce72-84721719a89c"
      },
      "execution_count": null,
      "outputs": [
        {
          "output_type": "stream",
          "name": "stdout",
          "text": [
            "Found 9 unique classes: ['funk_rock', 'punk', 'rock', 'rock_folk', 'rock_halftime', 'rock_indie', 'rock_prog', 'rock_rockabilly', 'rock_shuffle']\n",
            "\n",
            "Total samples per class:\n",
            "funk_rock: 45 samples\n",
            "punk: 273 samples\n",
            "rock: 3528 samples\n",
            "rock_folk: 101 samples\n",
            "rock_halftime: 271 samples\n",
            "rock_indie: 53 samples\n",
            "rock_prog: 278 samples\n",
            "rock_rockabilly: 260 samples\n",
            "rock_shuffle: 273 samples\n",
            "\n",
            "Class distribution in new splits:\n",
            "\n",
            "Train split:\n",
            "Total samples: 4062\n",
            "funk_rock: 36 samples (0.9%)\n",
            "punk: 218 samples (5.4%)\n",
            "rock: 2822 samples (69.5%)\n",
            "rock_folk: 80 samples (2.0%)\n",
            "rock_halftime: 216 samples (5.3%)\n",
            "rock_indie: 42 samples (1.0%)\n",
            "rock_prog: 222 samples (5.5%)\n",
            "rock_rockabilly: 208 samples (5.1%)\n",
            "rock_shuffle: 218 samples (5.4%)\n",
            "\n",
            "Validation split:\n",
            "Total samples: 505\n",
            "funk_rock: 4 samples (0.8%)\n",
            "punk: 27 samples (5.3%)\n",
            "rock: 352 samples (69.7%)\n",
            "rock_folk: 10 samples (2.0%)\n",
            "rock_halftime: 27 samples (5.3%)\n",
            "rock_indie: 5 samples (1.0%)\n",
            "rock_prog: 27 samples (5.3%)\n",
            "rock_rockabilly: 26 samples (5.1%)\n",
            "rock_shuffle: 27 samples (5.3%)\n",
            "\n",
            "Test split:\n",
            "Total samples: 515\n",
            "funk_rock: 5 samples (1.0%)\n",
            "punk: 28 samples (5.4%)\n",
            "rock: 354 samples (68.7%)\n",
            "rock_folk: 11 samples (2.1%)\n",
            "rock_halftime: 28 samples (5.4%)\n",
            "rock_indie: 6 samples (1.2%)\n",
            "rock_prog: 29 samples (5.6%)\n",
            "rock_rockabilly: 26 samples (5.0%)\n",
            "rock_shuffle: 28 samples (5.4%)\n",
            "\n",
            "Class mapping:\n",
            "0: funk_rock\n",
            "1: punk\n",
            "2: rock\n",
            "3: rock_folk\n",
            "4: rock_halftime\n",
            "5: rock_indie\n",
            "6: rock_prog\n",
            "7: rock_rockabilly\n",
            "8: rock_shuffle\n"
          ]
        }
      ]
    },
    {
      "cell_type": "markdown",
      "source": [
        "#Dataset Class"
      ],
      "metadata": {
        "id": "AdUg7z70ZDvF"
      }
    },
    {
      "cell_type": "code",
      "source": [
        "# Constants\n",
        "BASE_DIR = \"/content/drive/My Drive/LUMT_Thesis_Resources/\"\n",
        "SAMPLE_RATE = 16_000\n",
        "CLIP_LENGTH_SAMPLES = SAMPLE_RATE * 10  # 10 seconds = 160000 samples\n",
        "METADATA_FILE = \"groove_2bar_16000hz_segmented_metadata_allrock_punk_v2_modified_split_rev.csv\"\n",
        "metadata_path = os.path.join(BASE_DIR, METADATA_FILE)\n",
        "\n",
        "class GrooveDataset(Dataset):\n",
        "    def __init__(self, split: str):\n",
        "        assert split in ['train', 'test', 'validation'], f\"Invalid split: {split}\"\n",
        "\n",
        "        print(f\" Loading metadata from: {metadata_path}\")\n",
        "        df = pd.read_csv(metadata_path)\n",
        "        print(f\" Full metadata loaded: {df.shape[0]} rows\")\n",
        "\n",
        "        # Filter based on revised split\n",
        "        df = df[df['split_rev'] == split].reset_index(drop=True) #new dataframe per split\n",
        "        print(f\" Subset for '{split}' split: {df.shape[0]} rows\")\n",
        "\n",
        "        # Check required columns\n",
        "        assert 'file_path' in df.columns, \"Missing 'file_path' in metadata\"\n",
        "        assert 'style_class' in df.columns, \"Missing 'style_class' in metadata\"\n",
        "\n",
        "        # Convert relative paths to absolute\n",
        "        df['file_path'] = df['file_path'].apply(lambda x: os.path.join(BASE_DIR, x))\n",
        "\n",
        "        # Store processed dataframe\n",
        "        self.data_df = df\n",
        "\n",
        "        # Build label mapping\n",
        "        self.labels = sorted(df[\"style_class\"].unique())\n",
        "        self.class_to_idx = {label: idx for idx, label in enumerate(self.labels)}\n",
        "\n",
        "        print(\" Available classes and mapping:\")\n",
        "        for idx, label in self.class_to_idx.items():\n",
        "            print(f\"  {label}: {idx}\")\n",
        "\n",
        "        # Preview head\n",
        "        print(\" Preview of dataset:\")\n",
        "        print(self.data_df[['file_path', 'style_class']].head(3))\n",
        "\n",
        "    def __len__(self):\n",
        "        return len(self.data_df)\n",
        "\n",
        "    def __getitem__(self, idx):\n",
        "        row = self.data_df.iloc[idx]\n",
        "        file_path = row[\"file_path\"]\n",
        "        label = row[\"style_class\"]\n",
        "\n",
        "        try:\n",
        "            waveform, sr = torchaudio.load(file_path)\n",
        "\n",
        "            # Resample if needed\n",
        "            if sr != SAMPLE_RATE:\n",
        "                print(f\"[RESAMPLE] {file_path}: {sr}Hz → {SAMPLE_RATE}Hz\")\n",
        "                resampler = T.Resample(orig_freq=sr, new_freq=SAMPLE_RATE)\n",
        "                waveform = resampler(waveform)\n",
        "\n",
        "            # Convert to mono\n",
        "            if waveform.shape[0] > 1:\n",
        "                waveform = waveform.mean(dim=0, keepdim=True)\n",
        "\n",
        "            num_samples = waveform.size(1)\n",
        "            print(f\"[AUDIO] {file_path} | Original samples: {num_samples}\")\n",
        "\n",
        "            if num_samples < CLIP_LENGTH_SAMPLES:\n",
        "                waveform = F.pad(waveform, (0, CLIP_LENGTH_SAMPLES - num_samples))\n",
        "                print(f\"[PADDED] Padded to {CLIP_LENGTH_SAMPLES}\")\n",
        "            else:\n",
        "                waveform = waveform[:, :CLIP_LENGTH_SAMPLES]\n",
        "                print(f\"[TRIMMED] Trimmed to {CLIP_LENGTH_SAMPLES}\")\n",
        "\n",
        "            label_index = self.class_to_idx[label]\n",
        "            return waveform, label_index, SAMPLE_RATE\n",
        "\n",
        "        except Exception as e:\n",
        "            print(f\"[ERROR] Failed loading {file_path}: {e}\")\n",
        "            return None\n",
        "\n",
        "# --- Instantiate all splits below ---\n",
        "\n",
        "print(\" Instantiating all dataset splits...\\n\")\n",
        "train_dataset = GrooveDataset(split=\"train\")\n",
        "val_dataset = GrooveDataset(split=\"validation\")\n",
        "test_dataset = GrooveDataset(split=\"test\")\n",
        "\n",
        "# Print sizes\n",
        "print(f\" Dataset sizes:\")\n",
        "print(f\"Train: {len(train_dataset)} samples\")\n",
        "print(f\"Validation: {len(val_dataset)} samples\")\n",
        "print(f\"Test: {len(test_dataset)} samples\")\n",
        "\n",
        "# Trigger sample loading for verification\n",
        "print(f\" Triggering 1 sample from each split for verification:\")\n",
        "_ = train_dataset[0]\n",
        "_ = val_dataset[0]\n",
        "_ = test_dataset[0]\n"
      ],
      "metadata": {
        "colab": {
          "base_uri": "https://localhost:8080/"
        },
        "id": "tN3ETCgjZFd2",
        "outputId": "e2ee7bff-47c1-48e0-984d-59492b98da2c"
      },
      "execution_count": null,
      "outputs": [
        {
          "output_type": "stream",
          "name": "stdout",
          "text": [
            " Instantiating all dataset splits...\n",
            "\n",
            " Loading metadata from: /content/drive/My Drive/LUMT_Thesis_Resources/groove_2bar_16000hz_segmented_metadata_allrock_punk_v2_modified_split_rev.csv\n",
            " Full metadata loaded: 5082 rows\n",
            " Subset for 'train' split: 4062 rows\n",
            " Available classes and mapping:\n",
            "  0: funk_rock\n",
            "  1: punk\n",
            "  2: rock\n",
            "  3: rock_folk\n",
            "  4: rock_halftime\n",
            "  5: rock_indie\n",
            "  6: rock_prog\n",
            "  7: rock_rockabilly\n",
            "  8: rock_shuffle\n",
            " Preview of dataset:\n",
            "                                           file_path style_class\n",
            "0  /content/drive/My Drive/LUMT_Thesis_Resources/...   funk_rock\n",
            "1  /content/drive/My Drive/LUMT_Thesis_Resources/...   funk_rock\n",
            "2  /content/drive/My Drive/LUMT_Thesis_Resources/...   funk_rock\n",
            " Loading metadata from: /content/drive/My Drive/LUMT_Thesis_Resources/groove_2bar_16000hz_segmented_metadata_allrock_punk_v2_modified_split_rev.csv\n",
            " Full metadata loaded: 5082 rows\n",
            " Subset for 'validation' split: 505 rows\n",
            " Available classes and mapping:\n",
            "  0: funk_rock\n",
            "  1: punk\n",
            "  2: rock\n",
            "  3: rock_folk\n",
            "  4: rock_halftime\n",
            "  5: rock_indie\n",
            "  6: rock_prog\n",
            "  7: rock_rockabilly\n",
            "  8: rock_shuffle\n",
            " Preview of dataset:\n",
            "                                           file_path style_class\n",
            "0  /content/drive/My Drive/LUMT_Thesis_Resources/...   funk_rock\n",
            "1  /content/drive/My Drive/LUMT_Thesis_Resources/...   funk_rock\n",
            "2  /content/drive/My Drive/LUMT_Thesis_Resources/...   funk_rock\n",
            " Loading metadata from: /content/drive/My Drive/LUMT_Thesis_Resources/groove_2bar_16000hz_segmented_metadata_allrock_punk_v2_modified_split_rev.csv\n",
            " Full metadata loaded: 5082 rows\n",
            " Subset for 'test' split: 515 rows\n",
            " Available classes and mapping:\n",
            "  0: funk_rock\n",
            "  1: punk\n",
            "  2: rock\n",
            "  3: rock_folk\n",
            "  4: rock_halftime\n",
            "  5: rock_indie\n",
            "  6: rock_prog\n",
            "  7: rock_rockabilly\n",
            "  8: rock_shuffle\n",
            " Preview of dataset:\n",
            "                                           file_path style_class\n",
            "0  /content/drive/My Drive/LUMT_Thesis_Resources/...   funk_rock\n",
            "1  /content/drive/My Drive/LUMT_Thesis_Resources/...   funk_rock\n",
            "2  /content/drive/My Drive/LUMT_Thesis_Resources/...   funk_rock\n",
            " Dataset sizes:\n",
            "Train: 4062 samples\n",
            "Validation: 505 samples\n",
            "Test: 515 samples\n",
            " Triggering 1 sample from each split for verification:\n",
            "[AUDIO] /content/drive/My Drive/LUMT_Thesis_Resources/groove_2bar_audio_train/drummer1_session2_90_022.wav | Original samples: 83479\n",
            "[PADDED] Padded to 160000\n",
            "[AUDIO] /content/drive/My Drive/LUMT_Thesis_Resources/groove_2bar_audio_train/drummer1_session2_90_038.wav | Original samples: 83479\n",
            "[PADDED] Padded to 160000\n",
            "[AUDIO] /content/drive/My Drive/LUMT_Thesis_Resources/groove_2bar_audio_train/drummer1_session2_90_009.wav | Original samples: 83478\n",
            "[PADDED] Padded to 160000\n"
          ]
        }
      ]
    },
    {
      "cell_type": "markdown",
      "source": [
        "#Sanity Checks for datasets"
      ],
      "metadata": {
        "id": "0wXg2PKBmTUk"
      }
    },
    {
      "cell_type": "code",
      "source": [
        "# Sanity check: trigger 3 samples per dataset after instantiation\n",
        "\n",
        "print(\" Running sanity check: first 3 samples from each split\\n\")\n",
        "\n",
        "dataset_dict = {\n",
        "    \"train\": train_dataset,\n",
        "    \"validation\": val_dataset,\n",
        "    \"test\": test_dataset\n",
        "}\n",
        "\n",
        "for split_name, dataset in dataset_dict.items():\n",
        "    print(f\" Split: {split_name.upper()}\")\n",
        "    print(f\"Size: {len(dataset)} samples\")\n",
        "\n",
        "    for i in range(3):\n",
        "        print(f\" Sample {i+1}:\")\n",
        "        _ = dataset[i]"
      ],
      "metadata": {
        "colab": {
          "base_uri": "https://localhost:8080/"
        },
        "id": "si2u1MDDcnXJ",
        "outputId": "50c8b361-8492-49ac-eac4-80abd023b28a"
      },
      "execution_count": null,
      "outputs": [
        {
          "output_type": "stream",
          "name": "stdout",
          "text": [
            " Running sanity check: first 3 samples from each split\n",
            "\n",
            " Split: TRAIN\n",
            "Size: 4062 samples\n",
            " Sample 1:\n",
            "[AUDIO] /content/drive/My Drive/LUMT_Thesis_Resources/groove_2bar_audio_train/drummer1_session2_90_022.wav | Original samples: 83479\n",
            "[PADDED] Padded to 160000\n",
            " Sample 2:\n",
            "[AUDIO] /content/drive/My Drive/LUMT_Thesis_Resources/groove_2bar_audio_train/drummer1_session2_90_020.wav | Original samples: 83478\n",
            "[PADDED] Padded to 160000\n",
            " Sample 3:\n",
            "[AUDIO] /content/drive/My Drive/LUMT_Thesis_Resources/groove_2bar_audio_train/drummer1_session2_90_027.wav | Original samples: 83478\n",
            "[PADDED] Padded to 160000\n",
            " Split: VALIDATION\n",
            "Size: 505 samples\n",
            " Sample 1:\n",
            "[AUDIO] /content/drive/My Drive/LUMT_Thesis_Resources/groove_2bar_audio_train/drummer1_session2_90_038.wav | Original samples: 83479\n",
            "[PADDED] Padded to 160000\n",
            " Sample 2:\n",
            "[AUDIO] /content/drive/My Drive/LUMT_Thesis_Resources/groove_2bar_audio_train/drummer1_session2_90_025.wav | Original samples: 83478\n",
            "[PADDED] Padded to 160000\n",
            " Sample 3:\n",
            "[AUDIO] /content/drive/My Drive/LUMT_Thesis_Resources/groove_2bar_audio_train/drummer1_session2_90_015.wav | Original samples: 83479\n",
            "[PADDED] Padded to 160000\n",
            " Split: TEST\n",
            "Size: 515 samples\n",
            " Sample 1:\n",
            "[AUDIO] /content/drive/My Drive/LUMT_Thesis_Resources/groove_2bar_audio_train/drummer1_session2_90_009.wav | Original samples: 83478\n",
            "[PADDED] Padded to 160000\n",
            " Sample 2:\n",
            "[AUDIO] /content/drive/My Drive/LUMT_Thesis_Resources/groove_2bar_audio_train/drummer1_session2_90_035.wav | Original samples: 83478\n",
            "[PADDED] Padded to 160000\n",
            " Sample 3:\n",
            "[AUDIO] /content/drive/My Drive/LUMT_Thesis_Resources/groove_2bar_audio_train/drummer1_session2_90_039.wav | Original samples: 83478\n",
            "[PADDED] Padded to 160000\n"
          ]
        }
      ]
    },
    {
      "cell_type": "code",
      "source": [
        "# Enhanced debug: Inspect waveform, label, and metadata for 3 samples per split\n",
        "\n",
        "print(\" Detailed shape and label check per split...\\n\")\n",
        "\n",
        "dataset_dict = {\n",
        "    \"train\": train_dataset,\n",
        "    \"validation\": val_dataset,\n",
        "    \"test\": test_dataset\n",
        "}\n",
        "\n",
        "for split_name, dataset in dataset_dict.items():\n",
        "    print(f\" SPLIT: {split_name.upper()}\")\n",
        "    for i in range(3):\n",
        "        print(f\" Sample {i+1}:\")\n",
        "\n",
        "        # Load waveform, label index, sample rate\n",
        "        sample_waveform, sample_label_idx, sample_rate = dataset[i]\n",
        "\n",
        "        # Get corresponding metadata\n",
        "        row = dataset.data_df.iloc[i]\n",
        "        split_rev = row['split_rev']\n",
        "        file_path = row['file_path']\n",
        "        style_class = row['style_class']\n",
        "\n",
        "        # Print info\n",
        "        print(f\"  ➤ split_rev     : {split_rev}\")\n",
        "        print(f\"  ➤ file_path     : {file_path}\")\n",
        "        print(f\"  ➤ style_class   : {style_class}\")\n",
        "        print(f\"  ➤ label index   : {sample_label_idx}\")\n",
        "        print(f\"  ➤ waveform shape: {sample_waveform.shape}\")\n",
        "        print(f\"  ➤ sample rate   : {sample_rate}\")\n"
      ],
      "metadata": {
        "colab": {
          "base_uri": "https://localhost:8080/"
        },
        "id": "ToComZnunfn8",
        "outputId": "d1cbdfa2-314c-4c52-ea62-efdb143015f5"
      },
      "execution_count": null,
      "outputs": [
        {
          "output_type": "stream",
          "name": "stdout",
          "text": [
            " Detailed shape and label check per split...\n",
            "\n",
            " SPLIT: TRAIN\n",
            " Sample 1:\n",
            "[AUDIO] /content/drive/My Drive/LUMT_Thesis_Resources/groove_2bar_audio_train/drummer1_session2_90_022.wav | Original samples: 83479\n",
            "[PADDED] Padded to 160000\n",
            "  ➤ split_rev     : train\n",
            "  ➤ file_path     : /content/drive/My Drive/LUMT_Thesis_Resources/groove_2bar_audio_train/drummer1_session2_90_022.wav\n",
            "  ➤ style_class   : funk_rock\n",
            "  ➤ label index   : 0\n",
            "  ➤ waveform shape: torch.Size([1, 160000])\n",
            "  ➤ sample rate   : 16000\n",
            " Sample 2:\n",
            "[AUDIO] /content/drive/My Drive/LUMT_Thesis_Resources/groove_2bar_audio_train/drummer1_session2_90_020.wav | Original samples: 83478\n",
            "[PADDED] Padded to 160000\n",
            "  ➤ split_rev     : train\n",
            "  ➤ file_path     : /content/drive/My Drive/LUMT_Thesis_Resources/groove_2bar_audio_train/drummer1_session2_90_020.wav\n",
            "  ➤ style_class   : funk_rock\n",
            "  ➤ label index   : 0\n",
            "  ➤ waveform shape: torch.Size([1, 160000])\n",
            "  ➤ sample rate   : 16000\n",
            " Sample 3:\n",
            "[AUDIO] /content/drive/My Drive/LUMT_Thesis_Resources/groove_2bar_audio_train/drummer1_session2_90_027.wav | Original samples: 83478\n",
            "[PADDED] Padded to 160000\n",
            "  ➤ split_rev     : train\n",
            "  ➤ file_path     : /content/drive/My Drive/LUMT_Thesis_Resources/groove_2bar_audio_train/drummer1_session2_90_027.wav\n",
            "  ➤ style_class   : funk_rock\n",
            "  ➤ label index   : 0\n",
            "  ➤ waveform shape: torch.Size([1, 160000])\n",
            "  ➤ sample rate   : 16000\n",
            " SPLIT: VALIDATION\n",
            " Sample 1:\n",
            "[AUDIO] /content/drive/My Drive/LUMT_Thesis_Resources/groove_2bar_audio_train/drummer1_session2_90_038.wav | Original samples: 83479\n",
            "[PADDED] Padded to 160000\n",
            "  ➤ split_rev     : validation\n",
            "  ➤ file_path     : /content/drive/My Drive/LUMT_Thesis_Resources/groove_2bar_audio_train/drummer1_session2_90_038.wav\n",
            "  ➤ style_class   : funk_rock\n",
            "  ➤ label index   : 0\n",
            "  ➤ waveform shape: torch.Size([1, 160000])\n",
            "  ➤ sample rate   : 16000\n",
            " Sample 2:\n",
            "[AUDIO] /content/drive/My Drive/LUMT_Thesis_Resources/groove_2bar_audio_train/drummer1_session2_90_025.wav | Original samples: 83478\n",
            "[PADDED] Padded to 160000\n",
            "  ➤ split_rev     : validation\n",
            "  ➤ file_path     : /content/drive/My Drive/LUMT_Thesis_Resources/groove_2bar_audio_train/drummer1_session2_90_025.wav\n",
            "  ➤ style_class   : funk_rock\n",
            "  ➤ label index   : 0\n",
            "  ➤ waveform shape: torch.Size([1, 160000])\n",
            "  ➤ sample rate   : 16000\n",
            " Sample 3:\n",
            "[AUDIO] /content/drive/My Drive/LUMT_Thesis_Resources/groove_2bar_audio_train/drummer1_session2_90_015.wav | Original samples: 83479\n",
            "[PADDED] Padded to 160000\n",
            "  ➤ split_rev     : validation\n",
            "  ➤ file_path     : /content/drive/My Drive/LUMT_Thesis_Resources/groove_2bar_audio_train/drummer1_session2_90_015.wav\n",
            "  ➤ style_class   : funk_rock\n",
            "  ➤ label index   : 0\n",
            "  ➤ waveform shape: torch.Size([1, 160000])\n",
            "  ➤ sample rate   : 16000\n",
            " SPLIT: TEST\n",
            " Sample 1:\n",
            "[AUDIO] /content/drive/My Drive/LUMT_Thesis_Resources/groove_2bar_audio_train/drummer1_session2_90_009.wav | Original samples: 83478\n",
            "[PADDED] Padded to 160000\n",
            "  ➤ split_rev     : test\n",
            "  ➤ file_path     : /content/drive/My Drive/LUMT_Thesis_Resources/groove_2bar_audio_train/drummer1_session2_90_009.wav\n",
            "  ➤ style_class   : funk_rock\n",
            "  ➤ label index   : 0\n",
            "  ➤ waveform shape: torch.Size([1, 160000])\n",
            "  ➤ sample rate   : 16000\n",
            " Sample 2:\n",
            "[AUDIO] /content/drive/My Drive/LUMT_Thesis_Resources/groove_2bar_audio_train/drummer1_session2_90_035.wav | Original samples: 83478\n",
            "[PADDED] Padded to 160000\n",
            "  ➤ split_rev     : test\n",
            "  ➤ file_path     : /content/drive/My Drive/LUMT_Thesis_Resources/groove_2bar_audio_train/drummer1_session2_90_035.wav\n",
            "  ➤ style_class   : funk_rock\n",
            "  ➤ label index   : 0\n",
            "  ➤ waveform shape: torch.Size([1, 160000])\n",
            "  ➤ sample rate   : 16000\n",
            " Sample 3:\n",
            "[AUDIO] /content/drive/My Drive/LUMT_Thesis_Resources/groove_2bar_audio_train/drummer1_session2_90_039.wav | Original samples: 83478\n",
            "[PADDED] Padded to 160000\n",
            "  ➤ split_rev     : test\n",
            "  ➤ file_path     : /content/drive/My Drive/LUMT_Thesis_Resources/groove_2bar_audio_train/drummer1_session2_90_039.wav\n",
            "  ➤ style_class   : funk_rock\n",
            "  ➤ label index   : 0\n",
            "  ➤ waveform shape: torch.Size([1, 160000])\n",
            "  ➤ sample rate   : 16000\n"
          ]
        }
      ]
    },
    {
      "cell_type": "markdown",
      "source": [
        "#Waveform Features class and verify Feature Extraction"
      ],
      "metadata": {
        "id": "mW71cARPF0M5"
      }
    },
    {
      "cell_type": "code",
      "source": [
        "import torch.nn as nn\n",
        "import torchaudio.transforms as T\n",
        "\n",
        "class WaveformFeatures(nn.Module):\n",
        "    def __init__(\n",
        "        self,\n",
        "        sample_rate=16_000,\n",
        "        n_fft=1024,\n",
        "        n_mels=128,\n",
        "        power=2.0, #default value\n",
        "    ):\n",
        "        super().__init__()\n",
        "        hop_length = n_fft // 4\n",
        "\n",
        "        self.spectrogram = T.Spectrogram(n_fft=n_fft, hop_length=hop_length, power=power)\n",
        "        self.mel_scale = T.MelScale(n_mels=n_mels, sample_rate=sample_rate, n_stft=n_fft // 2 + 1)\n",
        "\n",
        "    def forward(self, waveform: torch.Tensor) -> torch.Tensor:\n",
        "        # waveform: (1, N)\n",
        "        spec = self.spectrogram(waveform)  # (1, F, T)\n",
        "        mel_spec = self.mel_scale(spec)    # (1, M, T)\n",
        "        return mel_spec\n"
      ],
      "metadata": {
        "id": "lFfTKBOgFQkK"
      },
      "execution_count": null,
      "outputs": []
    },
    {
      "cell_type": "code",
      "source": [
        "# Feature extraction test on real dataset sample\n",
        "print(\" Verifying Mel Spectrogram extraction pipeline...\")\n",
        "\n",
        "# Use existing train_dataset (already filtered, padded)\n",
        "sample_waveform, sample_label_idx, sample_rate = train_dataset[0]\n",
        "\n",
        "print(f\"Input waveform shape: {sample_waveform.shape}\")\n",
        "print(f\"Sample rate: {sample_rate}\")\n",
        "print(f\"Label index: {sample_label_idx}\")\n",
        "print(f\"Original class: {train_dataset.data_df.iloc[0]['style_class']}\")\n",
        "print(f\"From file: {train_dataset.data_df.iloc[0]['file_path']}\")\n",
        "\n",
        "# Instantiate feature extractor\n",
        "feature_extractor = WaveformFeatures(sample_rate=sample_rate)\n",
        "\n",
        "# Generate log-mel spectrogram\n",
        "mel_spectrogram = feature_extractor(sample_waveform)\n",
        "\n",
        "# Print output shape\n",
        "print(f\" Mel Spectrogram shape: {mel_spectrogram.shape}\")\n"
      ],
      "metadata": {
        "colab": {
          "base_uri": "https://localhost:8080/"
        },
        "id": "yjWZIo-gFaA6",
        "outputId": "37200b7a-8e1a-4ddb-a16d-811fb5ad2fbb"
      },
      "execution_count": null,
      "outputs": [
        {
          "output_type": "stream",
          "name": "stdout",
          "text": [
            " Verifying Mel Spectrogram extraction pipeline...\n",
            "[AUDIO] /content/drive/My Drive/LUMT_Thesis_Resources/groove_2bar_audio_train/drummer1_session2_90_022.wav | Original samples: 83479\n",
            "[PADDED] Padded to 160000\n",
            "Input waveform shape: torch.Size([1, 160000])\n",
            "Sample rate: 16000\n",
            "Label index: 0\n",
            "Original class: funk_rock\n",
            "From file: /content/drive/My Drive/LUMT_Thesis_Resources/groove_2bar_audio_train/drummer1_session2_90_022.wav\n",
            " Mel Spectrogram shape: torch.Size([1, 128, 626])\n"
          ]
        }
      ]
    },
    {
      "cell_type": "markdown",
      "source": [
        "#DataLoader"
      ],
      "metadata": {
        "id": "SsEiEiCnQq2-"
      }
    },
    {
      "cell_type": "code",
      "source": [
        "from torch.utils.data import DataLoader\n",
        "\n",
        "# Hyperparameters\n",
        "BATCH_SIZE = 16\n",
        "NUM_WORKERS = 0  # Safe default for Colab\n",
        "\n",
        "# Create DataLoaders\n",
        "train_loader = DataLoader(train_dataset, batch_size=BATCH_SIZE, shuffle=True, num_workers=NUM_WORKERS)\n",
        "val_loader   = DataLoader(val_dataset, batch_size=BATCH_SIZE, shuffle=False, num_workers=NUM_WORKERS)\n",
        "test_loader  = DataLoader(test_dataset, batch_size=BATCH_SIZE, shuffle=False, num_workers=NUM_WORKERS)\n",
        "\n",
        "print(\"DataLoaders created\")\n",
        "\n",
        "# Sample batch from train loader to verify shapes\n",
        "print(\"Inspecting one batch from train_loader...\")\n",
        "\n",
        "batch = next(iter(train_loader))\n",
        "waveforms, labels, sample_rates = batch\n",
        "\n",
        "print(f\"Waveform batch shape : {waveforms.shape}  # Expect: [B, 1, 160000]\")\n",
        "print(f\"Labels shape         : {labels.shape}     # Expect: [B]\")\n",
        "print(f\"Sample rates         : {sample_rates}\")    # Should all be 16000\n"
      ],
      "metadata": {
        "colab": {
          "base_uri": "https://localhost:8080/"
        },
        "id": "RpKPmmGePW4D",
        "outputId": "06288e9c-089b-40fd-9e8c-58d06e8384a2"
      },
      "execution_count": null,
      "outputs": [
        {
          "output_type": "stream",
          "name": "stdout",
          "text": [
            "DataLoaders created\n",
            "Inspecting one batch from train_loader...\n",
            "[AUDIO] /content/drive/My Drive/LUMT_Thesis_Resources/groove_2bar_audio_test/drummer7_session2_18_000.wav | Original samples: 65084\n",
            "[PADDED] Padded to 160000\n",
            "[AUDIO] /content/drive/My Drive/LUMT_Thesis_Resources/groove_2bar_audio_train/drummer3_session1_20_003.wav | Original samples: 64000\n",
            "[PADDED] Padded to 160000\n",
            "[AUDIO] /content/drive/My Drive/LUMT_Thesis_Resources/groove_2bar_audio_train/drummer1_session3_1_055.wav | Original samples: 61440\n",
            "[PADDED] Padded to 160000\n",
            "[AUDIO] /content/drive/My Drive/LUMT_Thesis_Resources/groove_2bar_audio_validation/drummer1_session2_62_120.wav | Original samples: 53333\n",
            "[PADDED] Padded to 160000\n",
            "[AUDIO] /content/drive/My Drive/LUMT_Thesis_Resources/groove_2bar_audio_train/drummer7_session1_1_031.wav | Original samples: 89302\n",
            "[PADDED] Padded to 160000\n",
            "[AUDIO] /content/drive/My Drive/LUMT_Thesis_Resources/groove_2bar_audio_train/drummer9_session1_19_000.wav | Original samples: 64000\n",
            "[PADDED] Padded to 160000\n",
            "[AUDIO] /content/drive/My Drive/LUMT_Thesis_Resources/groove_2bar_audio_validation/drummer1_session3_13_121.wav | Original samples: 66783\n",
            "[PADDED] Padded to 160000\n",
            "[AUDIO] /content/drive/My Drive/LUMT_Thesis_Resources/groove_2bar_audio_validation/drummer6_session3_5_089.wav | Original samples: 42667\n",
            "[PADDED] Padded to 160000\n",
            "[AUDIO] /content/drive/My Drive/LUMT_Thesis_Resources/groove_2bar_audio_train/drummer1_session2_90_028.wav | Original samples: 83478\n",
            "[PADDED] Padded to 160000\n",
            "[AUDIO] /content/drive/My Drive/LUMT_Thesis_Resources/groove_2bar_audio_train/drummer3_session2_24_001.wav | Original samples: 83478\n",
            "[PADDED] Padded to 160000\n",
            "[AUDIO] /content/drive/My Drive/LUMT_Thesis_Resources/groove_2bar_audio_train/drummer7_session1_9_009.wav | Original samples: 82581\n",
            "[PADDED] Padded to 160000\n",
            "[AUDIO] /content/drive/My Drive/LUMT_Thesis_Resources/groove_2bar_audio_train/drummer5_session1_16_069.wav | Original samples: 56470\n",
            "[PADDED] Padded to 160000\n",
            "[AUDIO] /content/drive/My Drive/LUMT_Thesis_Resources/groove_2bar_audio_train/drummer6_session3_6_013.wav | Original samples: 87273\n",
            "[PADDED] Padded to 160000\n",
            "[AUDIO] /content/drive/My Drive/LUMT_Thesis_Resources/groove_2bar_audio_train/drummer1_session1_217_000.wav | Original samples: 54857\n",
            "[PADDED] Padded to 160000\n",
            "[AUDIO] /content/drive/My Drive/LUMT_Thesis_Resources/groove_2bar_audio_train/drummer1_session1_202_145.wav | Original samples: 54858\n",
            "[PADDED] Padded to 160000\n",
            "[AUDIO] /content/drive/My Drive/LUMT_Thesis_Resources/groove_2bar_audio_train/drummer1_session1_202_159.wav | Original samples: 54858\n",
            "[PADDED] Padded to 160000\n",
            "Waveform batch shape : torch.Size([16, 1, 160000])  # Expect: [B, 1, 160000]\n",
            "Labels shape         : torch.Size([16])     # Expect: [B]\n",
            "Sample rates         : tensor([16000, 16000, 16000, 16000, 16000, 16000, 16000, 16000, 16000, 16000,\n",
            "        16000, 16000, 16000, 16000, 16000, 16000])\n"
          ]
        }
      ]
    },
    {
      "cell_type": "markdown",
      "source": [
        "#Updated GrooveDataset with Feature Extraction (Dataset Class)"
      ],
      "metadata": {
        "id": "x-HEdH8SR_M5"
      }
    },
    {
      "cell_type": "code",
      "source": [
        "class GrooveDataset(Dataset):\n",
        "    def __init__(self, split: str, transform=None):\n",
        "        assert split in ['train', 'test', 'validation'], f\"Invalid split: {split}\"\n",
        "        self.transform = transform\n",
        "\n",
        "        print(f\" Loading metadata from: {metadata_path}\")\n",
        "        df = pd.read_csv(metadata_path)\n",
        "        print(f\" Full metadata loaded: {df.shape[0]} rows\")\n",
        "\n",
        "        df = df[df['split_rev'] == split].reset_index(drop=True)\n",
        "        print(f\" Subset for '{split}' split: {df.shape[0]} rows\")\n",
        "\n",
        "        assert 'file_path' in df.columns\n",
        "        assert 'style_class' in df.columns\n",
        "\n",
        "        df['file_path'] = df['file_path'].apply(lambda x: os.path.join(BASE_DIR, x))\n",
        "        self.data_df = df\n",
        "\n",
        "        self.labels = sorted(df[\"style_class\"].unique())\n",
        "        self.class_to_idx = {label: idx for idx, label in enumerate(self.labels)}\n",
        "\n",
        "        print(\" Available classes and mapping:\")\n",
        "        for idx, label in self.class_to_idx.items():\n",
        "            print(f\"  {label}: {idx}\")\n",
        "\n",
        "        print(\" Preview of dataset:\")\n",
        "        print(self.data_df[['file_path', 'style_class']].head(3))\n",
        "\n",
        "    def __len__(self):\n",
        "        return len(self.data_df)\n",
        "\n",
        "    def __getitem__(self, idx):\n",
        "        row = self.data_df.iloc[idx]\n",
        "        file_path = row[\"file_path\"]\n",
        "        label = row[\"style_class\"]\n",
        "\n",
        "        try:\n",
        "            waveform, sr = torchaudio.load(file_path)\n",
        "\n",
        "            if sr != SAMPLE_RATE:\n",
        "                print(f\"[RESAMPLE] {file_path}: {sr}Hz → {SAMPLE_RATE}Hz\")\n",
        "                resampler = T.Resample(orig_freq=sr, new_freq=SAMPLE_RATE)\n",
        "                waveform = resampler(waveform)\n",
        "\n",
        "            if waveform.shape[0] > 1:\n",
        "                waveform = waveform.mean(dim=0, keepdim=True)\n",
        "\n",
        "            num_samples = waveform.size(1)\n",
        "            print(f\"[AUDIO] {file_path} | Original samples: {num_samples}\")\n",
        "\n",
        "            if num_samples < CLIP_LENGTH_SAMPLES:\n",
        "                waveform = F.pad(waveform, (0, CLIP_LENGTH_SAMPLES - num_samples))\n",
        "                print(f\"[PADDED] Padded to {CLIP_LENGTH_SAMPLES}\")\n",
        "            else:\n",
        "                waveform = waveform[:, :CLIP_LENGTH_SAMPLES]\n",
        "                print(f\"[TRIMMED] Trimmed to {CLIP_LENGTH_SAMPLES}\")\n",
        "\n",
        "            # APPLY MEL FEATURE EXTRACTOR HERE\n",
        "            if self.transform:\n",
        "                features = self.transform(waveform)  # Expect [1, 128, T]\n",
        "            else:\n",
        "                features = waveform  # Raw waveform fallback\n",
        "\n",
        "            label_index = self.class_to_idx[label]\n",
        "            return features, label_index, SAMPLE_RATE\n",
        "\n",
        "        except Exception as e:\n",
        "            print(f\"[ERROR] Failed loading {file_path}: {e}\")\n",
        "            return None\n"
      ],
      "metadata": {
        "id": "5M85aYuvR2Qr"
      },
      "execution_count": null,
      "outputs": []
    },
    {
      "cell_type": "markdown",
      "source": [
        "#DATALOADER W/ MEL FEATURES + DEBUG PRINTS"
      ],
      "metadata": {
        "id": "TEM7fSKrUK_R"
      }
    },
    {
      "cell_type": "code",
      "source": [
        "# Instantiate feature extractor\n",
        "feature_extractor = WaveformFeatures(sample_rate=16000)\n",
        "\n",
        "# Create dataset objects with mel spectrogram transform\n",
        "train_dataset = GrooveDataset(split=\"train\", transform=feature_extractor)\n",
        "val_dataset   = GrooveDataset(split=\"validation\", transform=feature_extractor)\n",
        "test_dataset  = GrooveDataset(split=\"test\", transform=feature_extractor)\n",
        "\n",
        "# Create dataloaders\n",
        "from torch.utils.data import DataLoader\n",
        "\n",
        "BATCH_SIZE = 16\n",
        "train_loader = DataLoader(train_dataset, batch_size=BATCH_SIZE, shuffle=True)\n",
        "val_loader   = DataLoader(val_dataset, batch_size=BATCH_SIZE, shuffle=False)\n",
        "test_loader  = DataLoader(test_dataset, batch_size=BATCH_SIZE, shuffle=False)\n",
        "\n",
        "# Test a sample batch\n",
        "print(\"Testing first batch from train_loader...\\n\")\n",
        "batch = next(iter(train_loader))\n",
        "\n",
        "batch_features, batch_labels, batch_sample_rates = batch\n",
        "\n",
        "print(f\"Waveform batch shape: {batch_features.shape}\")  # [B, 1, 128, T]\n",
        "print(f\"Label indices       : {batch_labels}\")\n",
        "print(f\"Sample rates        : {batch_sample_rates}\")\n",
        "\n",
        "# Optional: print label names\n",
        "idx_to_class = {v: k for k, v in train_dataset.class_to_idx.items()}\n",
        "label_names = [idx_to_class[i.item()] for i in batch_labels]\n",
        "print(f\"Label names         : {label_names}\")\n"
      ],
      "metadata": {
        "colab": {
          "base_uri": "https://localhost:8080/"
        },
        "id": "M9YzkjmOUIfD",
        "outputId": "350e2326-56b5-4749-bf76-2ce824bc0aa5"
      },
      "execution_count": null,
      "outputs": [
        {
          "output_type": "stream",
          "name": "stdout",
          "text": [
            " Loading metadata from: /content/drive/My Drive/LUMT_Thesis_Resources/groove_2bar_16000hz_segmented_metadata_allrock_punk_v2_modified_split_rev.csv\n",
            " Full metadata loaded: 5082 rows\n",
            " Subset for 'train' split: 4062 rows\n",
            " Available classes and mapping:\n",
            "  0: funk_rock\n",
            "  1: punk\n",
            "  2: rock\n",
            "  3: rock_folk\n",
            "  4: rock_halftime\n",
            "  5: rock_indie\n",
            "  6: rock_prog\n",
            "  7: rock_rockabilly\n",
            "  8: rock_shuffle\n",
            " Preview of dataset:\n",
            "                                           file_path style_class\n",
            "0  /content/drive/My Drive/LUMT_Thesis_Resources/...   funk_rock\n",
            "1  /content/drive/My Drive/LUMT_Thesis_Resources/...   funk_rock\n",
            "2  /content/drive/My Drive/LUMT_Thesis_Resources/...   funk_rock\n",
            " Loading metadata from: /content/drive/My Drive/LUMT_Thesis_Resources/groove_2bar_16000hz_segmented_metadata_allrock_punk_v2_modified_split_rev.csv\n",
            " Full metadata loaded: 5082 rows\n",
            " Subset for 'validation' split: 505 rows\n",
            " Available classes and mapping:\n",
            "  0: funk_rock\n",
            "  1: punk\n",
            "  2: rock\n",
            "  3: rock_folk\n",
            "  4: rock_halftime\n",
            "  5: rock_indie\n",
            "  6: rock_prog\n",
            "  7: rock_rockabilly\n",
            "  8: rock_shuffle\n",
            " Preview of dataset:\n",
            "                                           file_path style_class\n",
            "0  /content/drive/My Drive/LUMT_Thesis_Resources/...   funk_rock\n",
            "1  /content/drive/My Drive/LUMT_Thesis_Resources/...   funk_rock\n",
            "2  /content/drive/My Drive/LUMT_Thesis_Resources/...   funk_rock\n",
            " Loading metadata from: /content/drive/My Drive/LUMT_Thesis_Resources/groove_2bar_16000hz_segmented_metadata_allrock_punk_v2_modified_split_rev.csv\n",
            " Full metadata loaded: 5082 rows\n",
            " Subset for 'test' split: 515 rows\n",
            " Available classes and mapping:\n",
            "  0: funk_rock\n",
            "  1: punk\n",
            "  2: rock\n",
            "  3: rock_folk\n",
            "  4: rock_halftime\n",
            "  5: rock_indie\n",
            "  6: rock_prog\n",
            "  7: rock_rockabilly\n",
            "  8: rock_shuffle\n",
            " Preview of dataset:\n",
            "                                           file_path style_class\n",
            "0  /content/drive/My Drive/LUMT_Thesis_Resources/...   funk_rock\n",
            "1  /content/drive/My Drive/LUMT_Thesis_Resources/...   funk_rock\n",
            "2  /content/drive/My Drive/LUMT_Thesis_Resources/...   funk_rock\n",
            "Testing first batch from train_loader...\n",
            "\n",
            "[AUDIO] /content/drive/My Drive/LUMT_Thesis_Resources/groove_2bar_audio_train/drummer9_session1_14_030.wav | Original samples: 64000\n",
            "[PADDED] Padded to 160000\n",
            "[AUDIO] /content/drive/My Drive/LUMT_Thesis_Resources/groove_2bar_audio_train/drummer7_session3_108_024.wav | Original samples: 80842\n",
            "[PADDED] Padded to 160000\n",
            "[AUDIO] /content/drive/My Drive/LUMT_Thesis_Resources/groove_2bar_audio_train/drummer8_session1_21_052.wav | Original samples: 68571\n",
            "[PADDED] Padded to 160000\n",
            "[AUDIO] /content/drive/My Drive/LUMT_Thesis_Resources/groove_2bar_audio_train/drummer1_session2_90_036.wav | Original samples: 83478\n",
            "[PADDED] Padded to 160000\n",
            "[AUDIO] /content/drive/My Drive/LUMT_Thesis_Resources/groove_2bar_audio_train/drummer3_session1_13_007.wav | Original samples: 64000\n",
            "[PADDED] Padded to 160000\n",
            "[AUDIO] /content/drive/My Drive/LUMT_Thesis_Resources/groove_2bar_audio_validation/drummer1_session2_62_091.wav | Original samples: 53334\n",
            "[PADDED] Padded to 160000\n",
            "[AUDIO] /content/drive/My Drive/LUMT_Thesis_Resources/groove_2bar_audio_train/drummer1_session3_3_013.wav | Original samples: 38400\n",
            "[PADDED] Padded to 160000\n",
            "[AUDIO] /content/drive/My Drive/LUMT_Thesis_Resources/groove_2bar_audio_validation/drummer1_session3_13_075.wav | Original samples: 66783\n",
            "[PADDED] Padded to 160000\n",
            "[AUDIO] /content/drive/My Drive/LUMT_Thesis_Resources/groove_2bar_audio_train/drummer3_session1_10_003.wav | Original samples: 73143\n",
            "[PADDED] Padded to 160000\n",
            "[AUDIO] /content/drive/My Drive/LUMT_Thesis_Resources/groove_2bar_audio_train/drummer9_session1_20_054.wav | Original samples: 64000\n",
            "[PADDED] Padded to 160000\n",
            "[AUDIO] /content/drive/My Drive/LUMT_Thesis_Resources/groove_2bar_audio_validation/drummer1_session3_13_097.wav | Original samples: 66783\n",
            "[PADDED] Padded to 160000\n",
            "[AUDIO] /content/drive/My Drive/LUMT_Thesis_Resources/groove_2bar_audio_validation/drummer6_session3_4_067.wav | Original samples: 60473\n",
            "[PADDED] Padded to 160000\n",
            "[AUDIO] /content/drive/My Drive/LUMT_Thesis_Resources/groove_2bar_audio_validation/drummer6_session3_5_039.wav | Original samples: 42666\n",
            "[PADDED] Padded to 160000\n",
            "[AUDIO] /content/drive/My Drive/LUMT_Thesis_Resources/groove_2bar_audio_train/drummer1_session3_18_074.wav | Original samples: 60000\n",
            "[PADDED] Padded to 160000\n",
            "[AUDIO] /content/drive/My Drive/LUMT_Thesis_Resources/groove_2bar_audio_train/drummer1_session3_3_101.wav | Original samples: 38401\n",
            "[PADDED] Padded to 160000\n",
            "[AUDIO] /content/drive/My Drive/LUMT_Thesis_Resources/groove_2bar_audio_test/drummer9_session1_24_018.wav | Original samples: 85333\n",
            "[PADDED] Padded to 160000\n",
            "Waveform batch shape: torch.Size([16, 1, 128, 626])\n",
            "Label indices       : tensor([2, 2, 8, 0, 2, 1, 7, 2, 2, 2, 2, 2, 2, 2, 7, 2])\n",
            "Sample rates        : tensor([16000, 16000, 16000, 16000, 16000, 16000, 16000, 16000, 16000, 16000,\n",
            "        16000, 16000, 16000, 16000, 16000, 16000])\n",
            "Label names         : ['rock', 'rock', 'rock_shuffle', 'funk_rock', 'rock', 'punk', 'rock_rockabilly', 'rock', 'rock', 'rock', 'rock', 'rock', 'rock', 'rock', 'rock_rockabilly', 'rock']\n"
          ]
        }
      ]
    },
    {
      "cell_type": "markdown",
      "source": [
        "# DrumStyleClassifier CNN Module"
      ],
      "metadata": {
        "id": "nohS0A-OVIxk"
      }
    },
    {
      "cell_type": "code",
      "source": [
        "import torch.nn as nn\n",
        "import torch.nn.functional as F\n",
        "\n",
        "class DrumStyleClassifier(nn.Module):\n",
        "    def __init__(self, num_classes, n_mel=128):\n",
        "        super(DrumStyleClassifier, self).__init__()\n",
        "\n",
        "        # Convolutional layers\n",
        "        self.conv1 = nn.Conv2d(1, 16, kernel_size=3, stride=1, padding=1)\n",
        "        self.conv2 = nn.Conv2d(16, 32, kernel_size=3, stride=1, padding=1)\n",
        "        self.conv3 = nn.Conv2d(32, 64, kernel_size=3, stride=1, padding=1)\n",
        "        self.pool = nn.MaxPool2d(kernel_size=2, stride=2)\n",
        "        self.dropout = nn.Dropout(0.5)\n",
        "\n",
        "        # Adaptive Global Average Pooling to flatten time axis dynamically\n",
        "        self.global_pool = nn.AdaptiveAvgPool2d((n_mel // 8, 1))  # Reduce to [batch, channels, mel/8, 1]\n",
        "\n",
        "        # Fully connected layers\n",
        "        fc_input_dim = 64 * (n_mel // 8) * 1\n",
        "        self.fc1 = nn.Linear(fc_input_dim, 512)\n",
        "        self.fc2 = nn.Linear(512, num_classes)\n",
        "\n",
        "    def forward(self, x):\n",
        "        x = self.pool(F.relu(self.conv1(x)))  # -> [B, 16, 64, T/2]\n",
        "        x = self.pool(F.relu(self.conv2(x)))  # -> [B, 32, 32, T/4]\n",
        "        x = self.pool(F.relu(self.conv3(x)))  # -> [B, 64, 16, T/8]\n",
        "\n",
        "        x = self.global_pool(x)               # -> [B, 64, mel/8, 1]\n",
        "        x = x.view(x.size(0), -1)             # Flatten\n",
        "\n",
        "        x = F.relu(self.fc1(x))\n",
        "        x = self.dropout(x)\n",
        "        x = self.fc2(x)\n",
        "        return x\n"
      ],
      "metadata": {
        "id": "-hJdANMoVOYI"
      },
      "execution_count": null,
      "outputs": []
    },
    {
      "cell_type": "markdown",
      "source": [
        "#Consolidated Model Code"
      ],
      "metadata": {
        "id": "qoooz2H3axSO"
      }
    },
    {
      "cell_type": "code",
      "source": [
        "import os\n",
        "import pandas as pd\n",
        "import torch\n",
        "import torch.nn as nn\n",
        "import torch.nn.functional as F\n",
        "import torchaudio\n",
        "import torchaudio.transforms as T\n",
        "from torch.utils.data import Dataset, DataLoader\n",
        "\n",
        "# === Constants ===\n",
        "BASE_DIR = \"/content/drive/My Drive/LUMT_Thesis_Resources/\"\n",
        "SAMPLE_RATE = 16_000\n",
        "CLIP_LENGTH_SAMPLES = SAMPLE_RATE * 10  # 10 seconds = 160000 samples\n",
        "METADATA_FILE = \"groove_2bar_16000hz_segmented_metadata_allrock_punk_v2_modified_split_rev.csv\"\n",
        "metadata_path = os.path.join(BASE_DIR, METADATA_FILE)\n",
        "\n",
        "# === Mel Feature Extractor ===\n",
        "class WaveformFeatures(nn.Module):\n",
        "    def __init__(self, sample_rate=16000, n_fft=1024, n_mels=128):\n",
        "        super().__init__()\n",
        "        hop_length = n_fft // 4\n",
        "        self.spectrogram = T.Spectrogram(n_fft=n_fft, hop_length=hop_length, power=2.0)\n",
        "        self.mel_scale = T.MelScale(n_mels=n_mels, sample_rate=sample_rate, n_stft=n_fft // 2 + 1)\n",
        "\n",
        "    def forward(self, waveform: torch.Tensor) -> torch.Tensor:\n",
        "        spec = self.spectrogram(waveform)\n",
        "        mel_spec = self.mel_scale(spec)\n",
        "        return mel_spec\n",
        "\n",
        "# === Dataset Class with Mel Transform Support ===\n",
        "class GrooveDataset(Dataset):\n",
        "    def __init__(self, split: str, transform=None):\n",
        "        assert split in ['train', 'test', 'validation'], f\"Invalid split: {split}\"\n",
        "        self.transform = transform\n",
        "\n",
        "        df = pd.read_csv(metadata_path)\n",
        "        df = df[df['split_rev'] == split].reset_index(drop=True)\n",
        "        df['file_path'] = df['file_path'].apply(lambda x: os.path.join(BASE_DIR, x))\n",
        "\n",
        "        self.data_df = df\n",
        "        self.labels = sorted(df[\"style_class\"].unique())\n",
        "        self.class_to_idx = {label: idx for idx, label in enumerate(self.labels)}\n",
        "        self.idx_to_class = {idx: label for label, idx in self.class_to_idx.items()}\n",
        "\n",
        "    def __len__(self):\n",
        "        return len(self.data_df)\n",
        "\n",
        "    def __getitem__(self, idx):\n",
        "        row = self.data_df.iloc[idx]\n",
        "        file_path = row[\"file_path\"]\n",
        "        label = row[\"style_class\"]\n",
        "\n",
        "        try:\n",
        "            waveform, sr = torchaudio.load(file_path)\n",
        "            if sr != SAMPLE_RATE:\n",
        "                resampler = T.Resample(orig_freq=sr, new_freq=SAMPLE_RATE)\n",
        "                waveform = resampler(waveform)\n",
        "\n",
        "            if waveform.shape[0] > 1:\n",
        "                waveform = waveform.mean(dim=0, keepdim=True)\n",
        "\n",
        "            num_samples = waveform.size(1)\n",
        "            if num_samples < CLIP_LENGTH_SAMPLES:\n",
        "                waveform = F.pad(waveform, (0, CLIP_LENGTH_SAMPLES - num_samples))\n",
        "            else:\n",
        "                waveform = waveform[:, :CLIP_LENGTH_SAMPLES]\n",
        "\n",
        "            if self.transform:\n",
        "                features = self.transform(waveform)\n",
        "            else:\n",
        "                features = waveform\n",
        "\n",
        "            label_index = self.class_to_idx[label]\n",
        "            return features, label_index, SAMPLE_RATE\n",
        "\n",
        "        except Exception as e:\n",
        "            print(f\"[ERROR] Failed loading {file_path}: {e}\")\n",
        "            return None\n",
        "\n",
        "# === CNN Classifier with Adaptive Pooling ===\n",
        "class DrumStyleClassifier(nn.Module):\n",
        "    def __init__(self, num_classes, n_mel=128):\n",
        "        super().__init__()\n",
        "\n",
        "        self.conv1 = nn.Conv2d(1, 16, kernel_size=3, padding=1)\n",
        "        self.conv2 = nn.Conv2d(16, 32, kernel_size=3, padding=1)\n",
        "        self.conv3 = nn.Conv2d(32, 64, kernel_size=3, padding=1)\n",
        "        self.pool = nn.MaxPool2d(kernel_size=2, stride=2)\n",
        "        self.dropout = nn.Dropout(0.5)\n",
        "\n",
        "        # Reduce time dimension to 1; keep mel dim compressed to 16\n",
        "        self.global_pool = nn.AdaptiveAvgPool2d((n_mel // 8, 1))  # → (16, 1)\n",
        "\n",
        "        self.fc1 = nn.Linear(64 * (n_mel // 8) * 1, 512)\n",
        "        self.fc2 = nn.Linear(512, num_classes)\n",
        "\n",
        "    def forward(self, x):\n",
        "        x = self.pool(F.relu(self.conv1(x)))  # [B, 16, 64, T/2]\n",
        "        x = self.pool(F.relu(self.conv2(x)))  # [B, 32, 32, T/4]\n",
        "        x = self.pool(F.relu(self.conv3(x)))  # [B, 64, 16, T/8]\n",
        "        x = self.global_pool(x)               # → [B, 64, 16, 1]\n",
        "        x = x.view(x.size(0), -1)             # Flatten to [B, 1024]\n",
        "        x = F.relu(self.fc1(x))\n",
        "        x = self.dropout(x)\n",
        "        x = self.fc2(x)\n",
        "        return x\n"
      ],
      "metadata": {
        "id": "H3PRVKp1azmf"
      },
      "execution_count": null,
      "outputs": []
    },
    {
      "cell_type": "markdown",
      "source": [
        "#Dataloaders\n",
        "\n",
        "run after consolidated model code"
      ],
      "metadata": {
        "id": "EpxRpZ-JcS-o"
      }
    },
    {
      "cell_type": "code",
      "source": [
        "# Instantiate feature extractor\n",
        "feature_extractor = WaveformFeatures(sample_rate=16000)\n",
        "\n",
        "# Create datasets w/ transform\n",
        "train_dataset = GrooveDataset(split=\"train\", transform=feature_extractor)\n",
        "val_dataset   = GrooveDataset(split=\"validation\", transform=feature_extractor)\n",
        "test_dataset  = GrooveDataset(split=\"test\", transform=feature_extractor)\n",
        "\n",
        "# Create DataLoaders\n",
        "BATCH_SIZE = 16\n",
        "train_loader = DataLoader(train_dataset, batch_size=BATCH_SIZE, shuffle=True)\n",
        "val_loader   = DataLoader(val_dataset, batch_size=BATCH_SIZE, shuffle=False)\n",
        "test_loader  = DataLoader(test_dataset, batch_size=BATCH_SIZE, shuffle=False)\n",
        "\n",
        "# Optional: inspect 1 batch\n",
        "batch = next(iter(train_loader))\n",
        "features, labels, sample_rates = batch\n",
        "print(f\"Batch shape: {features.shape}, Labels: {labels}\")\n"
      ],
      "metadata": {
        "colab": {
          "base_uri": "https://localhost:8080/"
        },
        "id": "3-XJGDrlcUxq",
        "outputId": "1b2ac739-94d1-42b1-da07-8f04a038e9ab"
      },
      "execution_count": null,
      "outputs": [
        {
          "output_type": "stream",
          "name": "stdout",
          "text": [
            "Batch shape: torch.Size([16, 1, 128, 626]), Labels: tensor([2, 7, 2, 2, 2, 2, 2, 2, 7, 2, 7, 2, 2, 2, 3, 2])\n"
          ]
        }
      ]
    },
    {
      "cell_type": "markdown",
      "source": [
        "#Device Setup for Training"
      ],
      "metadata": {
        "id": "ggSljZ08dV6C"
      }
    },
    {
      "cell_type": "code",
      "source": [
        "# === Device configuration ===\n",
        "device = torch.device(\"cuda\" if torch.cuda.is_available() else \"cpu\")\n",
        "print(f\" Using device: {device}\")\n"
      ],
      "metadata": {
        "colab": {
          "base_uri": "https://localhost:8080/"
        },
        "id": "FVj__MeBdYcl",
        "outputId": "cbb57408-3a74-4f9a-d34b-f5469e6aa063"
      },
      "execution_count": null,
      "outputs": [
        {
          "output_type": "stream",
          "name": "stdout",
          "text": [
            " Using device: cpu\n"
          ]
        }
      ]
    },
    {
      "cell_type": "markdown",
      "source": [
        "#Instantiate the model"
      ],
      "metadata": {
        "id": "2ZuAv8X7eC0F"
      }
    },
    {
      "cell_type": "code",
      "source": [
        "model = DrumStyleClassifier(num_classes=len(train_dataset.class_to_idx))\n",
        "model = model.to(device)"
      ],
      "metadata": {
        "id": "us-VrPWgeGj9"
      },
      "execution_count": null,
      "outputs": []
    },
    {
      "cell_type": "markdown",
      "source": [
        "#Training setup"
      ],
      "metadata": {
        "id": "dUgplhDCg9wU"
      }
    },
    {
      "cell_type": "code",
      "source": [
        "import os\n",
        "import csv\n",
        "import time\n",
        "import numpy as np\n",
        "import torch\n",
        "import torch.nn as nn\n",
        "import torch.optim as optim\n",
        "import matplotlib.pyplot as plt\n",
        "from tqdm import tqdm\n",
        "\n",
        "# === SETTINGS ===\n",
        "CHECKPOINTS_DIR = \"checkpoints\"\n",
        "LOG_CSV = \"gmd_cnn_p3_log.csv\"  # Updated log file name\n",
        "os.makedirs(CHECKPOINTS_DIR, exist_ok=True)\n",
        "\n",
        "# === One epoch of train or val ===\n",
        "def run_epoch(model, loader, criterion, optimizer, device, is_training):\n",
        "    model.train() if is_training else model.eval()\n",
        "\n",
        "    total_loss, correct, total = 0, 0, 0\n",
        "    all_losses = []\n",
        "\n",
        "    for features, labels, _ in tqdm(loader, desc=\"Train\" if is_training else \"Val\", leave=False):\n",
        "        features, labels = features.to(device), labels.to(device)\n",
        "        outputs = model(features)\n",
        "        loss = criterion(outputs, labels)\n",
        "\n",
        "        if is_training:\n",
        "            optimizer.zero_grad()\n",
        "            loss.backward()\n",
        "            optimizer.step()\n",
        "\n",
        "        total_loss += loss.item()\n",
        "        all_losses.append(loss.item())\n",
        "\n",
        "        # Accuracy\n",
        "        preds = outputs.argmax(dim=1)\n",
        "        correct += (preds == labels).sum().item()\n",
        "        total += labels.size(0)\n",
        "\n",
        "    avg_loss = total_loss / len(loader)\n",
        "    accuracy = correct / total\n",
        "    return avg_loss, accuracy, all_losses\n",
        "\n",
        "# === Save current model state ===\n",
        "def save_checkpoint(model, optimizer, epoch, path):\n",
        "    torch.save({\n",
        "        'epoch': epoch,\n",
        "        'model_state_dict': model.state_dict(),\n",
        "        'optimizer_state_dict': optimizer.state_dict(),\n",
        "    }, path)\n",
        "\n",
        "# === Train full model with early stopping ===\n",
        "def train_model(model, train_loader, val_loader, criterion, optimizer, device,\n",
        "                max_epochs=50, patience=10):\n",
        "    \"\"\"\n",
        "    Trains model and tracks:\n",
        "      - train/val loss per batch & epoch\n",
        "      - val accuracy per epoch\n",
        "      - early stopping based on val accuracy\n",
        "      - saves best model to disk\n",
        "      - logs all epochs to CSV\n",
        "    \"\"\"\n",
        "\n",
        "    best_val_acc = 0.0\n",
        "    patience_counter = 0\n",
        "    all_train_losses, all_val_losses = [], []\n",
        "    all_val_accuracies = []\n",
        "\n",
        "    # === Initialize CSV ===\n",
        "    with open(LOG_CSV, 'w', newline='') as f:\n",
        "        writer = csv.writer(f)\n",
        "        writer.writerow([\"epoch\", \"train_loss\", \"val_loss\", \"val_accuracy\"])\n",
        "\n",
        "    for epoch in range(1, max_epochs + 1):\n",
        "        print(f\"Epoch {epoch}/{max_epochs}\")\n",
        "\n",
        "        # === Train / Validate\n",
        "        train_loss, train_acc, train_losses = run_epoch(model, train_loader, criterion, optimizer, device, True)\n",
        "        val_loss, val_acc, val_losses = run_epoch(model, val_loader, criterion, optimizer, device, False)\n",
        "\n",
        "        # === Print summary for this epoch\n",
        "        print(f\"Train Loss: {train_loss:.4f} | Val Loss: {val_loss:.4f} | Val Acc: {val_acc:.4f}\")\n",
        "\n",
        "        all_train_losses.append(train_losses)\n",
        "        all_val_losses.append(val_losses)\n",
        "        all_val_accuracies.append(val_acc)\n",
        "\n",
        "        # === Append to CSV\n",
        "        with open(LOG_CSV, 'a', newline='') as f:\n",
        "            writer = csv.writer(f)\n",
        "            writer.writerow([epoch, train_loss, val_loss, val_acc])\n",
        "\n",
        "        # === Early Stopping\n",
        "        if val_acc > best_val_acc:\n",
        "            best_val_acc = val_acc\n",
        "            patience_counter = 0\n",
        "            best_model_path = f\"{CHECKPOINTS_DIR}/best_model_epoch_{epoch}.pth\"\n",
        "            save_checkpoint(model, optimizer, epoch, best_model_path)\n",
        "            print(f\" New best model saved at: {best_model_path}\")\n",
        "        else:\n",
        "            patience_counter += 1\n",
        "            print(f\"Patience: {patience_counter}/{patience}\")\n",
        "            if patience_counter >= patience:\n",
        "                print(\"Early stopping triggered.\")\n",
        "                break\n",
        "\n",
        "    return all_train_losses, all_val_losses, all_val_accuracies\n",
        "\n"
      ],
      "metadata": {
        "id": "dl0RuUzXhAAd"
      },
      "execution_count": null,
      "outputs": []
    },
    {
      "cell_type": "markdown",
      "source": [
        "#Training Execution"
      ],
      "metadata": {
        "id": "imaP1dssi8dh"
      }
    },
    {
      "cell_type": "code",
      "source": [
        "# === Instantiate model and training components ===\n",
        "model = DrumStyleClassifier(num_classes=len(train_dataset.class_to_idx)).to(device)\n",
        "criterion = nn.CrossEntropyLoss()\n",
        "optimizer = optim.Adam(model.parameters(), lr=1e-4)\n",
        "\n",
        "# === Run training with early stopping & return model path\n",
        "train_losses, val_losses, val_accuracies, best_model_path = train_model(\n",
        "    model,\n",
        "    train_loader,\n",
        "    val_loader,\n",
        "    criterion,\n",
        "    optimizer,\n",
        "    device,\n",
        "    max_epochs=50,\n",
        "    patience=10\n",
        ")\n",
        "\n",
        "# === Plot Loss + Validation Accuracy\n",
        "epochs = list(range(1, len(val_accuracies) + 1))\n",
        "train_loss_avg = [np.mean(epoch) for epoch in train_losses]\n",
        "val_loss_avg = [np.mean(epoch) for epoch in val_losses]\n",
        "\n",
        "plt.figure(figsize=(12, 6))\n",
        "plt.plot(epochs, train_loss_avg, label=\"Train Loss\", marker='o', color='blue')\n",
        "plt.plot(epochs, val_loss_avg, label=\"Validation Loss\", marker='o', color='red')\n",
        "plt.plot(epochs, val_accuracies, label=\"Validation Accuracy\", marker='s', color='green')\n",
        "\n",
        "plt.title(\"Training Progress: Loss & Accuracy\")\n",
        "plt.xlabel(\"Epoch\")\n",
        "plt.ylabel(\"Loss / Accuracy\")\n",
        "plt.grid(True)\n",
        "plt.legend()\n",
        "plt.savefig(\"loss_accuracy_plot.png\", dpi=300, bbox_inches=\"tight\")\n",
        "plt.show()\n",
        "\n",
        "# === Final training output\n",
        "print(\"Training complete.\")\n",
        "print(f\"Best model saved to: {best_model_path}\")\n",
        "print(\"Log CSV saved to: gmd_cnn_p3_log.csv\")\n",
        "print(\"  Plot saved to: loss_accuracy_plot.png\")\n",
        "\n"
      ],
      "metadata": {
        "colab": {
          "base_uri": "https://localhost:8080/",
          "height": 1000
        },
        "id": "_0Kaueqpi-_P",
        "outputId": "ec9c6179-b0b7-4753-aed1-ec0a04d9a1a0"
      },
      "execution_count": null,
      "outputs": [
        {
          "output_type": "stream",
          "name": "stdout",
          "text": [
            "Epoch 1/50\n"
          ]
        },
        {
          "output_type": "stream",
          "name": "stderr",
          "text": []
        },
        {
          "output_type": "stream",
          "name": "stdout",
          "text": [
            "Train Loss: 1.1989 | Val Loss: 1.0823 | Val Acc: 0.6970\n",
            " New best model saved at: checkpoints/best_model_epoch_1.pth\n",
            "Epoch 2/50\n"
          ]
        },
        {
          "output_type": "stream",
          "name": "stderr",
          "text": []
        },
        {
          "output_type": "stream",
          "name": "stdout",
          "text": [
            "Train Loss: 1.0385 | Val Loss: 1.0023 | Val Acc: 0.6970\n",
            "Patience: 1/10\n",
            "Epoch 3/50\n"
          ]
        },
        {
          "output_type": "stream",
          "name": "stderr",
          "text": []
        },
        {
          "output_type": "stream",
          "name": "stdout",
          "text": [
            "Train Loss: 0.9771 | Val Loss: 0.9245 | Val Acc: 0.6970\n",
            "Patience: 2/10\n",
            "Epoch 4/50\n"
          ]
        },
        {
          "output_type": "stream",
          "name": "stderr",
          "text": []
        },
        {
          "output_type": "stream",
          "name": "stdout",
          "text": [
            "Train Loss: 0.9055 | Val Loss: 0.8581 | Val Acc: 0.7069\n",
            " New best model saved at: checkpoints/best_model_epoch_4.pth\n",
            "Epoch 5/50\n"
          ]
        },
        {
          "output_type": "stream",
          "name": "stderr",
          "text": []
        },
        {
          "output_type": "stream",
          "name": "stdout",
          "text": [
            "Train Loss: 0.8432 | Val Loss: 0.7921 | Val Acc: 0.7406\n",
            " New best model saved at: checkpoints/best_model_epoch_5.pth\n",
            "Epoch 6/50\n"
          ]
        },
        {
          "output_type": "stream",
          "name": "stderr",
          "text": []
        },
        {
          "output_type": "stream",
          "name": "stdout",
          "text": [
            "Train Loss: 0.7871 | Val Loss: 0.6938 | Val Acc: 0.7644\n",
            " New best model saved at: checkpoints/best_model_epoch_6.pth\n",
            "Epoch 7/50\n"
          ]
        },
        {
          "output_type": "stream",
          "name": "stderr",
          "text": []
        },
        {
          "output_type": "stream",
          "name": "stdout",
          "text": [
            "Train Loss: 0.7406 | Val Loss: 0.6406 | Val Acc: 0.8040\n",
            " New best model saved at: checkpoints/best_model_epoch_7.pth\n",
            "Epoch 8/50\n"
          ]
        },
        {
          "output_type": "stream",
          "name": "stderr",
          "text": []
        },
        {
          "output_type": "stream",
          "name": "stdout",
          "text": [
            "Train Loss: 0.6912 | Val Loss: 0.6758 | Val Acc: 0.7624\n",
            "Patience: 1/10\n",
            "Epoch 9/50\n"
          ]
        },
        {
          "output_type": "stream",
          "name": "stderr",
          "text": []
        },
        {
          "output_type": "stream",
          "name": "stdout",
          "text": [
            "Train Loss: 0.6711 | Val Loss: 0.5615 | Val Acc: 0.8416\n",
            " New best model saved at: checkpoints/best_model_epoch_9.pth\n",
            "Epoch 10/50\n"
          ]
        },
        {
          "output_type": "stream",
          "name": "stderr",
          "text": []
        },
        {
          "output_type": "stream",
          "name": "stdout",
          "text": [
            "Train Loss: 0.6335 | Val Loss: 0.5250 | Val Acc: 0.8257\n",
            "Patience: 1/10\n",
            "Epoch 11/50\n"
          ]
        },
        {
          "output_type": "stream",
          "name": "stderr",
          "text": []
        },
        {
          "output_type": "stream",
          "name": "stdout",
          "text": [
            "Train Loss: 0.5978 | Val Loss: 0.4956 | Val Acc: 0.8515\n",
            " New best model saved at: checkpoints/best_model_epoch_11.pth\n",
            "Epoch 12/50\n"
          ]
        },
        {
          "output_type": "stream",
          "name": "stderr",
          "text": []
        },
        {
          "output_type": "stream",
          "name": "stdout",
          "text": [
            "Train Loss: 0.5742 | Val Loss: 0.5007 | Val Acc: 0.8297\n",
            "Patience: 1/10\n",
            "Epoch 13/50\n"
          ]
        },
        {
          "output_type": "stream",
          "name": "stderr",
          "text": []
        },
        {
          "output_type": "stream",
          "name": "stdout",
          "text": [
            "Train Loss: 0.5670 | Val Loss: 0.4613 | Val Acc: 0.8614\n",
            " New best model saved at: checkpoints/best_model_epoch_13.pth\n",
            "Epoch 14/50\n"
          ]
        },
        {
          "output_type": "stream",
          "name": "stderr",
          "text": []
        },
        {
          "output_type": "stream",
          "name": "stdout",
          "text": [
            "Train Loss: 0.5363 | Val Loss: 0.4614 | Val Acc: 0.8436\n",
            "Patience: 1/10\n",
            "Epoch 15/50\n"
          ]
        },
        {
          "output_type": "stream",
          "name": "stderr",
          "text": []
        },
        {
          "output_type": "stream",
          "name": "stdout",
          "text": [
            "Train Loss: 0.5200 | Val Loss: 0.4378 | Val Acc: 0.8653\n",
            " New best model saved at: checkpoints/best_model_epoch_15.pth\n",
            "Epoch 16/50\n"
          ]
        },
        {
          "output_type": "stream",
          "name": "stderr",
          "text": []
        },
        {
          "output_type": "stream",
          "name": "stdout",
          "text": [
            "Train Loss: 0.4967 | Val Loss: 0.3968 | Val Acc: 0.8812\n",
            " New best model saved at: checkpoints/best_model_epoch_16.pth\n",
            "Epoch 17/50\n"
          ]
        },
        {
          "output_type": "stream",
          "name": "stderr",
          "text": []
        },
        {
          "output_type": "stream",
          "name": "stdout",
          "text": [
            "Train Loss: 0.4850 | Val Loss: 0.4020 | Val Acc: 0.8693\n",
            "Patience: 1/10\n",
            "Epoch 18/50\n"
          ]
        },
        {
          "output_type": "stream",
          "name": "stderr",
          "text": []
        },
        {
          "output_type": "stream",
          "name": "stdout",
          "text": [
            "Train Loss: 0.4680 | Val Loss: 0.3877 | Val Acc: 0.8713\n",
            "Patience: 2/10\n",
            "Epoch 19/50\n"
          ]
        },
        {
          "output_type": "stream",
          "name": "stderr",
          "text": []
        },
        {
          "output_type": "stream",
          "name": "stdout",
          "text": [
            "Train Loss: 0.4512 | Val Loss: 0.3926 | Val Acc: 0.8713\n",
            "Patience: 3/10\n",
            "Epoch 20/50\n"
          ]
        },
        {
          "output_type": "stream",
          "name": "stderr",
          "text": []
        },
        {
          "output_type": "stream",
          "name": "stdout",
          "text": [
            "Train Loss: 0.4426 | Val Loss: 0.3651 | Val Acc: 0.8891\n",
            " New best model saved at: checkpoints/best_model_epoch_20.pth\n",
            "Epoch 21/50\n"
          ]
        },
        {
          "output_type": "stream",
          "name": "stderr",
          "text": []
        },
        {
          "output_type": "stream",
          "name": "stdout",
          "text": [
            "Train Loss: 0.4414 | Val Loss: 0.3493 | Val Acc: 0.8871\n",
            "Patience: 1/10\n",
            "Epoch 22/50\n"
          ]
        },
        {
          "output_type": "stream",
          "name": "stderr",
          "text": []
        },
        {
          "output_type": "stream",
          "name": "stdout",
          "text": [
            "Train Loss: 0.4320 | Val Loss: 0.3673 | Val Acc: 0.8891\n",
            "Patience: 2/10\n",
            "Epoch 23/50\n"
          ]
        },
        {
          "output_type": "stream",
          "name": "stderr",
          "text": []
        },
        {
          "output_type": "stream",
          "name": "stdout",
          "text": [
            "Train Loss: 0.4186 | Val Loss: 0.3454 | Val Acc: 0.8931\n",
            " New best model saved at: checkpoints/best_model_epoch_23.pth\n",
            "Epoch 24/50\n"
          ]
        },
        {
          "output_type": "stream",
          "name": "stderr",
          "text": []
        },
        {
          "output_type": "stream",
          "name": "stdout",
          "text": [
            "Train Loss: 0.4023 | Val Loss: 0.3247 | Val Acc: 0.8950\n",
            " New best model saved at: checkpoints/best_model_epoch_24.pth\n",
            "Epoch 25/50\n"
          ]
        },
        {
          "output_type": "stream",
          "name": "stderr",
          "text": []
        },
        {
          "output_type": "stream",
          "name": "stdout",
          "text": [
            "Train Loss: 0.3819 | Val Loss: 0.3306 | Val Acc: 0.8871\n",
            "Patience: 1/10\n",
            "Epoch 26/50\n"
          ]
        },
        {
          "output_type": "stream",
          "name": "stderr",
          "text": []
        },
        {
          "output_type": "stream",
          "name": "stdout",
          "text": [
            "Train Loss: 0.3845 | Val Loss: 0.3064 | Val Acc: 0.9089\n",
            " New best model saved at: checkpoints/best_model_epoch_26.pth\n",
            "Epoch 27/50\n"
          ]
        },
        {
          "output_type": "stream",
          "name": "stderr",
          "text": []
        },
        {
          "output_type": "stream",
          "name": "stdout",
          "text": [
            "Train Loss: 0.3827 | Val Loss: 0.3195 | Val Acc: 0.9010\n",
            "Patience: 1/10\n",
            "Epoch 28/50\n"
          ]
        },
        {
          "output_type": "stream",
          "name": "stderr",
          "text": []
        },
        {
          "output_type": "stream",
          "name": "stdout",
          "text": [
            "Train Loss: 0.3569 | Val Loss: 0.3451 | Val Acc: 0.8772\n",
            "Patience: 2/10\n",
            "Epoch 29/50\n"
          ]
        },
        {
          "output_type": "stream",
          "name": "stderr",
          "text": []
        },
        {
          "output_type": "stream",
          "name": "stdout",
          "text": [
            "Train Loss: 0.3596 | Val Loss: 0.3017 | Val Acc: 0.9089\n",
            "Patience: 3/10\n",
            "Epoch 30/50\n"
          ]
        },
        {
          "output_type": "stream",
          "name": "stderr",
          "text": []
        },
        {
          "output_type": "stream",
          "name": "stdout",
          "text": [
            "Train Loss: 0.3493 | Val Loss: 0.2986 | Val Acc: 0.9109\n",
            " New best model saved at: checkpoints/best_model_epoch_30.pth\n",
            "Epoch 31/50\n"
          ]
        },
        {
          "output_type": "stream",
          "name": "stderr",
          "text": []
        },
        {
          "output_type": "stream",
          "name": "stdout",
          "text": [
            "Train Loss: 0.3446 | Val Loss: 0.2942 | Val Acc: 0.9010\n",
            "Patience: 1/10\n",
            "Epoch 32/50\n"
          ]
        },
        {
          "output_type": "stream",
          "name": "stderr",
          "text": []
        },
        {
          "output_type": "stream",
          "name": "stdout",
          "text": [
            "Train Loss: 0.3282 | Val Loss: 0.2826 | Val Acc: 0.9109\n",
            "Patience: 2/10\n",
            "Epoch 33/50\n"
          ]
        },
        {
          "output_type": "stream",
          "name": "stderr",
          "text": []
        },
        {
          "output_type": "stream",
          "name": "stdout",
          "text": [
            "Train Loss: 0.3246 | Val Loss: 0.2765 | Val Acc: 0.9089\n",
            "Patience: 3/10\n",
            "Epoch 34/50\n"
          ]
        },
        {
          "output_type": "stream",
          "name": "stderr",
          "text": []
        },
        {
          "output_type": "stream",
          "name": "stdout",
          "text": [
            "Train Loss: 0.3171 | Val Loss: 0.2779 | Val Acc: 0.9129\n",
            " New best model saved at: checkpoints/best_model_epoch_34.pth\n",
            "Epoch 35/50\n"
          ]
        },
        {
          "output_type": "stream",
          "name": "stderr",
          "text": []
        },
        {
          "output_type": "stream",
          "name": "stdout",
          "text": [
            "Train Loss: 0.3074 | Val Loss: 0.2609 | Val Acc: 0.9168\n",
            " New best model saved at: checkpoints/best_model_epoch_35.pth\n",
            "Epoch 36/50\n"
          ]
        },
        {
          "output_type": "stream",
          "name": "stderr",
          "text": []
        },
        {
          "output_type": "stream",
          "name": "stdout",
          "text": [
            "Train Loss: 0.3157 | Val Loss: 0.2551 | Val Acc: 0.9188\n",
            " New best model saved at: checkpoints/best_model_epoch_36.pth\n",
            "Epoch 37/50\n"
          ]
        },
        {
          "output_type": "stream",
          "name": "stderr",
          "text": []
        },
        {
          "output_type": "stream",
          "name": "stdout",
          "text": [
            "Train Loss: 0.3031 | Val Loss: 0.2506 | Val Acc: 0.9208\n",
            " New best model saved at: checkpoints/best_model_epoch_37.pth\n",
            "Epoch 38/50\n"
          ]
        },
        {
          "output_type": "stream",
          "name": "stderr",
          "text": []
        },
        {
          "output_type": "stream",
          "name": "stdout",
          "text": [
            "Train Loss: 0.2829 | Val Loss: 0.2631 | Val Acc: 0.9129\n",
            "Patience: 1/10\n",
            "Epoch 39/50\n"
          ]
        },
        {
          "output_type": "stream",
          "name": "stderr",
          "text": []
        },
        {
          "output_type": "stream",
          "name": "stdout",
          "text": [
            "Train Loss: 0.2933 | Val Loss: 0.2635 | Val Acc: 0.9030\n",
            "Patience: 2/10\n",
            "Epoch 40/50\n"
          ]
        },
        {
          "output_type": "stream",
          "name": "stderr",
          "text": []
        },
        {
          "output_type": "stream",
          "name": "stdout",
          "text": [
            "Train Loss: 0.2916 | Val Loss: 0.2559 | Val Acc: 0.9129\n",
            "Patience: 3/10\n",
            "Epoch 41/50\n"
          ]
        },
        {
          "output_type": "stream",
          "name": "stderr",
          "text": []
        },
        {
          "output_type": "stream",
          "name": "stdout",
          "text": [
            "Train Loss: 0.2725 | Val Loss: 0.2440 | Val Acc: 0.9050\n",
            "Patience: 4/10\n",
            "Epoch 42/50\n"
          ]
        },
        {
          "output_type": "stream",
          "name": "stderr",
          "text": []
        },
        {
          "output_type": "stream",
          "name": "stdout",
          "text": [
            "Train Loss: 0.2759 | Val Loss: 0.2352 | Val Acc: 0.9168\n",
            "Patience: 5/10\n",
            "Epoch 43/50\n"
          ]
        },
        {
          "output_type": "stream",
          "name": "stderr",
          "text": []
        },
        {
          "output_type": "stream",
          "name": "stdout",
          "text": [
            "Train Loss: 0.2710 | Val Loss: 0.2499 | Val Acc: 0.9129\n",
            "Patience: 6/10\n",
            "Epoch 44/50\n"
          ]
        },
        {
          "output_type": "stream",
          "name": "stderr",
          "text": []
        },
        {
          "output_type": "stream",
          "name": "stdout",
          "text": [
            "Train Loss: 0.2731 | Val Loss: 0.2410 | Val Acc: 0.9188\n",
            "Patience: 7/10\n",
            "Epoch 45/50\n"
          ]
        },
        {
          "output_type": "stream",
          "name": "stderr",
          "text": []
        },
        {
          "output_type": "stream",
          "name": "stdout",
          "text": [
            "Train Loss: 0.2545 | Val Loss: 0.2352 | Val Acc: 0.9149\n",
            "Patience: 8/10\n",
            "Epoch 46/50\n"
          ]
        },
        {
          "output_type": "stream",
          "name": "stderr",
          "text": []
        },
        {
          "output_type": "stream",
          "name": "stdout",
          "text": [
            "Train Loss: 0.2576 | Val Loss: 0.2438 | Val Acc: 0.9228\n",
            " New best model saved at: checkpoints/best_model_epoch_46.pth\n",
            "Epoch 47/50\n"
          ]
        },
        {
          "output_type": "stream",
          "name": "stderr",
          "text": []
        },
        {
          "output_type": "stream",
          "name": "stdout",
          "text": [
            "Train Loss: 0.2501 | Val Loss: 0.2290 | Val Acc: 0.9109\n",
            "Patience: 1/10\n",
            "Epoch 48/50\n"
          ]
        },
        {
          "output_type": "stream",
          "name": "stderr",
          "text": []
        },
        {
          "output_type": "stream",
          "name": "stdout",
          "text": [
            "Train Loss: 0.2413 | Val Loss: 0.2233 | Val Acc: 0.9168\n",
            "Patience: 2/10\n",
            "Epoch 49/50\n"
          ]
        },
        {
          "output_type": "stream",
          "name": "stderr",
          "text": []
        },
        {
          "output_type": "stream",
          "name": "stdout",
          "text": [
            "Train Loss: 0.2478 | Val Loss: 0.2366 | Val Acc: 0.9188\n",
            "Patience: 3/10\n",
            "Epoch 50/50\n"
          ]
        },
        {
          "output_type": "stream",
          "name": "stderr",
          "text": [
            "                                                    "
          ]
        },
        {
          "output_type": "stream",
          "name": "stdout",
          "text": [
            "Train Loss: 0.2318 | Val Loss: 0.1932 | Val Acc: 0.9287\n",
            " New best model saved at: checkpoints/best_model_epoch_50.pth\n"
          ]
        },
        {
          "output_type": "stream",
          "name": "stderr",
          "text": [
            "\r"
          ]
        },
        {
          "output_type": "error",
          "ename": "ValueError",
          "evalue": "not enough values to unpack (expected 4, got 3)",
          "traceback": [
            "\u001b[0;31m---------------------------------------------------------------------------\u001b[0m",
            "\u001b[0;31mValueError\u001b[0m                                Traceback (most recent call last)",
            "\u001b[0;32m<ipython-input-20-b9877d592f40>\u001b[0m in \u001b[0;36m<cell line: 0>\u001b[0;34m()\u001b[0m\n\u001b[1;32m      5\u001b[0m \u001b[0;34m\u001b[0m\u001b[0m\n\u001b[1;32m      6\u001b[0m \u001b[0;31m# === Run training with early stopping & return model path\u001b[0m\u001b[0;34m\u001b[0m\u001b[0;34m\u001b[0m\u001b[0m\n\u001b[0;32m----> 7\u001b[0;31m train_losses, val_losses, val_accuracies, best_model_path = train_model(\n\u001b[0m\u001b[1;32m      8\u001b[0m     \u001b[0mmodel\u001b[0m\u001b[0;34m,\u001b[0m\u001b[0;34m\u001b[0m\u001b[0;34m\u001b[0m\u001b[0m\n\u001b[1;32m      9\u001b[0m     \u001b[0mtrain_loader\u001b[0m\u001b[0;34m,\u001b[0m\u001b[0;34m\u001b[0m\u001b[0;34m\u001b[0m\u001b[0m\n",
            "\u001b[0;31mValueError\u001b[0m: not enough values to unpack (expected 4, got 3)"
          ]
        }
      ]
    },
    {
      "cell_type": "markdown",
      "source": [
        "^ above results show best at epoch 50, downloaded the top 3 epochs to save to google drive. (50,46,37)\n",
        "\n",
        "Error was thrown when trying to visualize training not in the training itself, for future iterations, edit this cell to exclude training visualization and just execute the training."
      ],
      "metadata": {
        "id": "SxmAt3sFBLEr"
      }
    },
    {
      "cell_type": "markdown",
      "source": [
        "#Prevent timeout script"
      ],
      "metadata": {
        "id": "asCrd7ezsadU"
      }
    },
    {
      "cell_type": "code",
      "source": [
        "%%javascript\n",
        "function preventIdle() {\n",
        "    setInterval(() => {\n",
        "        console.log(\"Preventing Colab Disconnect...\");\n",
        "        document.querySelector(\"colab-toolbar-button\")?.click();\n",
        "    }, 60000); // Clicks every 60 seconds\n",
        "}\n",
        "preventIdle();"
      ],
      "metadata": {
        "id": "sQ8a_GKGsdBF"
      },
      "execution_count": null,
      "outputs": []
    },
    {
      "cell_type": "markdown",
      "source": [
        "#Visualize the training"
      ],
      "metadata": {
        "id": "C1sPT1z-BZZB"
      }
    },
    {
      "cell_type": "code",
      "source": [
        "import pandas as pd\n",
        "import matplotlib.pyplot as plt\n",
        "\n",
        "# === Path to training log in Colab runtime\n",
        "log_path = \"gmd_cnn_p3_log.csv\"\n",
        "\n",
        "# === Load training log\n",
        "log_df = pd.read_csv(log_path)\n",
        "\n",
        "# === Extract columns\n",
        "epochs = log_df[\"epoch\"]\n",
        "train_loss = log_df[\"train_loss\"]\n",
        "val_loss = log_df[\"val_loss\"]\n",
        "val_acc = log_df[\"val_accuracy\"]\n",
        "\n",
        "# === Plot loss and accuracy\n",
        "plt.figure(figsize=(14, 6))\n",
        "\n",
        "# Loss subplot\n",
        "plt.subplot(1, 2, 1)\n",
        "plt.plot(epochs, train_loss, label=\"Train Loss\", color='blue', marker='o')\n",
        "plt.plot(epochs, val_loss, label=\"Validation Loss\", color='red', marker='o')\n",
        "plt.title(\"Training vs Validation Loss\")\n",
        "plt.xlabel(\"Epoch\")\n",
        "plt.ylabel(\"Loss\")\n",
        "plt.grid(True)\n",
        "plt.legend()\n",
        "\n",
        "# Accuracy subplot\n",
        "plt.subplot(1, 2, 2)\n",
        "plt.plot(epochs, val_acc, label=\"Validation Accuracy\", color='green', marker='s')\n",
        "plt.title(\"Validation Accuracy\")\n",
        "plt.xlabel(\"Epoch\")\n",
        "plt.ylabel(\"Accuracy\")\n",
        "plt.grid(True)\n",
        "plt.legend()\n",
        "\n",
        "# Save & show plot\n",
        "plt.tight_layout()\n",
        "plt.savefig(\"loss_accuracy_plot.png\", dpi=300, bbox_inches=\"tight\")\n",
        "plt.show()\n",
        "\n",
        "print(\"Training visualization complete.\")\n",
        "print(\"Plot saved as: loss_accuracy_plot.png\")\n",
        "\n"
      ],
      "metadata": {
        "colab": {
          "base_uri": "https://localhost:8080/",
          "height": 473
        },
        "id": "b5XwdJTBBd7N",
        "outputId": "822fc546-3482-44b1-af79-3059c49e9e7c"
      },
      "execution_count": null,
      "outputs": [
        {
          "output_type": "display_data",
          "data": {
            "text/plain": [
              "<Figure size 1400x600 with 2 Axes>"
            ],
            "image/png": "[encoded data removed]"
          },
          "metadata": {}
        },
        {
          "output_type": "stream",
          "name": "stdout",
          "text": [
            "Training visualization complete.\n",
            "Plot saved as: loss_accuracy_plot.png\n"
          ]
        }
      ]
    },
    {
      "cell_type": "markdown",
      "source": [
        "#Reload the Model and Load Weights"
      ],
      "metadata": {
        "id": "YHdKpv5JFVP6"
      }
    },
    {
      "cell_type": "code",
      "source": [
        "# === Rebuild model and load best weights ===\n",
        "model = DrumStyleClassifier(num_classes=len(train_dataset.class_to_idx)).to(device)\n",
        "\n",
        "# Load best checkpoint\n",
        "best_model_path = \"checkpoints/best_model_epoch_50.pth\"\n",
        "checkpoint = torch.load(best_model_path, map_location=device)\n",
        "model.load_state_dict(checkpoint[\"model_state_dict\"])\n",
        "model.eval()\n",
        "\n",
        "print(f\"Model loaded from: {best_model_path}\")\n"
      ],
      "metadata": {
        "colab": {
          "base_uri": "https://localhost:8080/"
        },
        "id": "LTKBiFAbFYvR",
        "outputId": "cee44288-9868-45cb-b5fc-0ca8b7742302"
      },
      "execution_count": null,
      "outputs": [
        {
          "output_type": "stream",
          "name": "stdout",
          "text": [
            "Model loaded from: checkpoints/best_model_epoch_50.pth\n"
          ]
        }
      ]
    },
    {
      "cell_type": "markdown",
      "source": [
        "#Reload Test set"
      ],
      "metadata": {
        "id": "3CPq1wWeFc6Q"
      }
    },
    {
      "cell_type": "code",
      "source": [
        "# === Recreate test set loader ===\n",
        "test_dataset = GrooveDataset(split=\"test\", transform=feature_extractor)\n",
        "test_loader = DataLoader(test_dataset, batch_size=16, shuffle=False)\n",
        "\n",
        "print(f\"Test dataset size: {len(test_dataset)}\")\n"
      ],
      "metadata": {
        "colab": {
          "base_uri": "https://localhost:8080/"
        },
        "id": "61RKwPk8Feuq",
        "outputId": "37799ba6-3f9c-48e2-d15a-4f7d94c78b57"
      },
      "execution_count": null,
      "outputs": [
        {
          "output_type": "stream",
          "name": "stdout",
          "text": [
            "Test dataset size: 515\n"
          ]
        }
      ]
    },
    {
      "cell_type": "markdown",
      "source": [
        "#Inference , Confusion Matrix, Report\n"
      ],
      "metadata": {
        "id": "85_EKnf5Fl_w"
      }
    },
    {
      "cell_type": "code",
      "source": [
        "from sklearn.metrics import confusion_matrix, classification_report\n",
        "import seaborn as sns\n",
        "import matplotlib.pyplot as plt\n",
        "import numpy as np\n",
        "\n",
        "# === Run inference\n",
        "all_preds = []\n",
        "all_labels = []\n",
        "\n",
        "with torch.no_grad():\n",
        "    for features, labels, _ in test_loader:\n",
        "        features = features.to(device)\n",
        "        outputs = model(features)\n",
        "        preds = outputs.argmax(dim=1).cpu().numpy()\n",
        "        all_preds.extend(preds)\n",
        "        all_labels.extend(labels.numpy())\n",
        "\n",
        "# === Decode labels\n",
        "idx_to_class = test_dataset.idx_to_class\n",
        "class_names = [idx_to_class[i] for i in sorted(idx_to_class)]\n",
        "\n",
        "# === Confusion matrix\n",
        "cm = confusion_matrix(all_labels, all_preds)\n",
        "plt.figure(figsize=(10, 8))\n",
        "sns.heatmap(cm, annot=True, fmt=\"d\", cmap=\"Blues\", xticklabels=class_names, yticklabels=class_names)\n",
        "plt.xlabel(\"Predicted Label\")\n",
        "plt.ylabel(\"True Label\")\n",
        "plt.title(\"Confusion Matrix - Test Set\")\n",
        "plt.xticks(rotation=45, ha='right')\n",
        "plt.yticks(rotation=0)\n",
        "plt.tight_layout()\n",
        "plt.savefig(\"confusion_matrix_test.png\", dpi=300)\n",
        "plt.show()\n",
        "\n",
        "# === Classification report\n",
        "report = classification_report(all_labels, all_preds, target_names=class_names)\n",
        "print(\"Classification Report:\\n\")\n",
        "print(report)"
      ],
      "metadata": {
        "colab": {
          "base_uri": "https://localhost:8080/",
          "height": 1000
        },
        "id": "6yHlcEq4FrGQ",
        "outputId": "c366eb1a-4aa5-493f-b8e1-2730cf7b17aa"
      },
      "execution_count": null,
      "outputs": [
        {
          "output_type": "display_data",
          "data": {
            "text/plain": [
              "<Figure size 1000x800 with 2 Axes>"
            ],
            "image/png": "[encoded data removed]"
          },
          "metadata": {}
        },
        {
          "output_type": "stream",
          "name": "stdout",
          "text": [
            "Classification Report:\n",
            "\n",
            "                 precision    recall  f1-score   support\n",
            "\n",
            "      funk_rock       1.00      0.60      0.75         5\n",
            "           punk       0.96      0.93      0.95        28\n",
            "           rock       0.94      0.98      0.96       354\n",
            "      rock_folk       1.00      0.91      0.95        11\n",
            "  rock_halftime       0.77      0.86      0.81        28\n",
            "     rock_indie       1.00      0.33      0.50         6\n",
            "      rock_prog       0.81      0.72      0.76        29\n",
            "rock_rockabilly       0.96      0.85      0.90        26\n",
            "   rock_shuffle       0.83      0.68      0.75        28\n",
            "\n",
            "       accuracy                           0.92       515\n",
            "      macro avg       0.92      0.76      0.81       515\n",
            "   weighted avg       0.92      0.92      0.92       515\n",
            "\n"
          ]
        }
      ]
    },
    {
      "cell_type": "markdown",
      "source": [
        "#Updated Inference and Metrics\n",
        "\n",
        "additional metrics per class"
      ],
      "metadata": {
        "id": "0ZbAn7udJGpm"
      }
    },
    {
      "cell_type": "code",
      "source": [
        "from sklearn.metrics import (\n",
        "    confusion_matrix, classification_report, roc_auc_score, average_precision_score,\n",
        "    precision_score, recall_score, f1_score\n",
        ")\n",
        "import seaborn as sns\n",
        "import matplotlib.pyplot as plt\n",
        "import numpy as np\n",
        "import torch\n",
        "\n",
        "# === Inference and metric aggregation\n",
        "all_preds = []\n",
        "all_labels = []\n",
        "all_probs = []\n",
        "\n",
        "model.eval()\n",
        "with torch.no_grad():\n",
        "    for features, labels, _ in test_loader:\n",
        "        features = features.to(device)\n",
        "        outputs = model(features)\n",
        "\n",
        "        probs = torch.softmax(outputs, dim=1).cpu().numpy()\n",
        "        preds = np.argmax(probs, axis=1)\n",
        "\n",
        "        all_probs.extend(probs)\n",
        "        all_preds.extend(preds)\n",
        "        all_labels.extend(labels.numpy())\n",
        "\n",
        "all_probs = np.array(all_probs)\n",
        "all_preds = np.array(all_preds)\n",
        "all_labels = np.array(all_labels)\n",
        "\n",
        "# === Setup\n",
        "idx_to_class = test_dataset.idx_to_class\n",
        "class_names = [idx_to_class[i] for i in sorted(idx_to_class)]\n",
        "num_classes = len(class_names)\n",
        "\n",
        "# === Confusion Matrix\n",
        "cm = confusion_matrix(all_labels, all_preds)\n",
        "plt.figure(figsize=(10, 8))\n",
        "sns.heatmap(cm, annot=True, fmt=\"d\", cmap=\"Blues\", xticklabels=class_names, yticklabels=class_names)\n",
        "plt.xlabel(\"Predicted Label\")\n",
        "plt.ylabel(\"True Label\")\n",
        "plt.title(\"Confusion Matrix - Test Set\")\n",
        "plt.xticks(rotation=45)\n",
        "plt.tight_layout()\n",
        "plt.savefig(\"confusion_matrix_test.png\", dpi=300)\n",
        "plt.show()\n",
        "\n",
        "# === Standard Classification Report\n",
        "report_str = classification_report(all_labels, all_preds, target_names=class_names, digits=2)\n",
        "print(\"Classification Report:\\n\")\n",
        "print(report_str)\n",
        "\n",
        "# === Overall Accuracy\n",
        "accuracy = np.mean(all_preds == all_labels) * 100\n",
        "print(f\"\\nOverall Accuracy: {accuracy:.2f}%\")\n",
        "\n",
        "# === Mean Average Precision (mAP) and AUC (One-vs-Rest)\n",
        "binary_labels = np.eye(num_classes)[all_labels]  # one-hot encoding\n",
        "mAP = average_precision_score(binary_labels, all_probs, average=\"macro\")\n",
        "AUC = roc_auc_score(binary_labels, all_probs, average=\"macro\")\n",
        "\n",
        "print(f\"Mean Average Precision (mAP): {mAP:.4f}\")\n",
        "print(f\"Area Under Curve (AUC): {AUC:.4f}\")\n",
        "\n",
        "# === Per-Class Detailed Metrics\n",
        "print(\"\\nPer-class Metrics:\\n\")\n",
        "for i, class_name in enumerate(class_names):\n",
        "    y_true_binary = binary_labels[:, i]\n",
        "    y_pred_binary = all_probs[:, i]\n",
        "\n",
        "    precision = precision_score(all_labels == i, all_preds == i, zero_division=0)\n",
        "    recall = recall_score(all_labels == i, all_preds == i, zero_division=0)\n",
        "    f1 = f1_score(all_labels == i, all_preds == i, zero_division=0)\n",
        "    ap = average_precision_score(y_true_binary, y_pred_binary)\n",
        "    auc = roc_auc_score(y_true_binary, y_pred_binary)\n",
        "    support = np.sum(all_labels == i)\n",
        "\n",
        "    print(f\"{class_name}:\")\n",
        "    print(f\"  Precision: {precision * 100:.2f}%\")\n",
        "    print(f\"  Recall: {recall * 100:.2f}%\")\n",
        "    print(f\"  F1-score: {f1 * 100:.2f}%\")\n",
        "    print(f\"  mAP: {ap:.4f}\")\n",
        "    print(f\"  AUC: {auc:.4f}\")\n",
        "    print(f\"  Support: {support}\")\n",
        "    print(\"\")\n"
      ],
      "metadata": {
        "colab": {
          "base_uri": "https://localhost:8080/"
        },
        "id": "BZAvE4fUJLU-",
        "outputId": "5a88f816-1b1c-4c06-c7b5-0c5028eba92e"
      },
      "execution_count": null,
      "outputs": [
        {
          "output_type": "display_data",
          "data": {
            "text/plain": [
              "<Figure size 1000x800 with 2 Axes>"
            ],
            "image/png": "[encoded data removed]"
          },
          "metadata": {}
        },
        {
          "output_type": "stream",
          "name": "stdout",
          "text": [
            "Classification Report:\n",
            "\n",
            "                 precision    recall  f1-score   support\n",
            "\n",
            "      funk_rock       1.00      0.60      0.75         5\n",
            "           punk       0.96      0.93      0.95        28\n",
            "           rock       0.94      0.98      0.96       354\n",
            "      rock_folk       1.00      0.91      0.95        11\n",
            "  rock_halftime       0.77      0.86      0.81        28\n",
            "     rock_indie       1.00      0.33      0.50         6\n",
            "      rock_prog       0.81      0.72      0.76        29\n",
            "rock_rockabilly       0.96      0.85      0.90        26\n",
            "   rock_shuffle       0.83      0.68      0.75        28\n",
            "\n",
            "       accuracy                           0.92       515\n",
            "      macro avg       0.92      0.76      0.81       515\n",
            "   weighted avg       0.92      0.92      0.92       515\n",
            "\n",
            "\n",
            "Overall Accuracy: 92.04%\n",
            "Mean Average Precision (mAP): 0.9182\n",
            "Area Under Curve (AUC): 0.9936\n",
            "\n",
            "Per-class Metrics:\n",
            "\n",
            "funk_rock:\n",
            "  Precision: 100.00%\n",
            "  Recall: 60.00%\n",
            "  F1-score: 75.00%\n",
            "  mAP: 0.8711\n",
            "  AUC: 0.9980\n",
            "  Support: 5\n",
            "\n",
            "punk:\n",
            "  Precision: 96.30%\n",
            "  Recall: 92.86%\n",
            "  F1-score: 94.55%\n",
            "  mAP: 0.9882\n",
            "  AUC: 0.9993\n",
            "  Support: 28\n",
            "\n",
            "rock:\n",
            "  Precision: 93.78%\n",
            "  Recall: 98.02%\n",
            "  F1-score: 95.86%\n",
            "  mAP: 0.9917\n",
            "  AUC: 0.9825\n",
            "  Support: 354\n",
            "\n",
            "rock_folk:\n",
            "  Precision: 100.00%\n",
            "  Recall: 90.91%\n",
            "  F1-score: 95.24%\n",
            "  mAP: 0.9567\n",
            "  AUC: 0.9982\n",
            "  Support: 11\n",
            "\n",
            "rock_halftime:\n",
            "  Precision: 77.42%\n",
            "  Recall: 85.71%\n",
            "  F1-score: 81.36%\n",
            "  mAP: 0.8712\n",
            "  AUC: 0.9908\n",
            "  Support: 28\n",
            "\n",
            "rock_indie:\n",
            "  Precision: 100.00%\n",
            "  Recall: 33.33%\n",
            "  F1-score: 50.00%\n",
            "  mAP: 0.8972\n",
            "  AUC: 0.9987\n",
            "  Support: 6\n",
            "\n",
            "rock_prog:\n",
            "  Precision: 80.77%\n",
            "  Recall: 72.41%\n",
            "  F1-score: 76.36%\n",
            "  mAP: 0.8719\n",
            "  AUC: 0.9853\n",
            "  Support: 29\n",
            "\n",
            "rock_rockabilly:\n",
            "  Precision: 95.65%\n",
            "  Recall: 84.62%\n",
            "  F1-score: 89.80%\n",
            "  mAP: 0.9622\n",
            "  AUC: 0.9973\n",
            "  Support: 26\n",
            "\n",
            "rock_shuffle:\n",
            "  Precision: 82.61%\n",
            "  Recall: 67.86%\n",
            "  F1-score: 74.51%\n",
            "  mAP: 0.8534\n",
            "  AUC: 0.9922\n",
            "  Support: 28\n",
            "\n"
          ]
        }
      ]
    }
  ]
}